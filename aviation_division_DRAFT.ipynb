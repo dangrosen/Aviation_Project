{
 "cells": [
  {
   "cell_type": "markdown",
   "metadata": {},
   "source": [
    "# Risk Analysis: New Aviation Division"
   ]
  },
  {
   "cell_type": "markdown",
   "metadata": {},
   "source": [
    "<div style=\"text-align: center;\" style=\"border: 2px solid black;\">\n",
    "    <img src=\"build_a_plane_image.jpg\" alt=\"Airplane Build\" width=\"800\" height=\"200\">\n",
    "</div>"
   ]
  },
  {
   "cell_type": "markdown",
   "metadata": {},
   "source": [
    "## Overview\n",
    "\n",
    "This project analyzes the aviation risk assessment needs of HDK & Co., which plans to open a new aviation division. Descriptive analytics of aviation accident data shows that the severity of aircraft accidents varies by manufacturer and weather conditions. HDK & Co. can use this analysis in determining which aircrafts are the lowest risk to purchase in our rapidly changing global climate.\n"
   ]
  },
  {
   "cell_type": "markdown",
   "metadata": {},
   "source": [
    "## Business Problem"
   ]
  },
  {
   "cell_type": "markdown",
   "metadata": {},
   "source": [
    "<div style=\"text-align: center;\" style=\"border: 2px solid black;\">\n",
    "    <img src=\"red-airplane-flying-in-storm-rain-clouds-vector-38617662.jpg\" alt=\"Airplane in Storm\" width=\"800\" height=\"200\">\n",
    "</div>\n",
    "\n"
   ]
  },
  {
   "cell_type": "markdown",
   "metadata": {},
   "source": [
    "HDK & Co. may be able to lower the risk of purchasing a new aviation division by identifying the lowest risk aircrafts in inclement weather. \n",
    "\n",
    "In our analysis we found that while aircraft safety has made significant improvements over time, the data shows that during inclement weather the average fatal injuries was higher than clear weather. \n",
    "\n",
    "As our climate continues to change and weather conditions become more severe each year, we want to explore aircrafts with the lowest risk in inclement weather."
   ]
  },
  {
   "cell_type": "markdown",
   "metadata": {},
   "source": [
    "## Data Understanding"
   ]
  },
  {
   "cell_type": "markdown",
   "metadata": {},
   "source": [
    "<div style=\"text-align: center;\" style=\"border: 2px solid black;\">\n",
    "    <img src=\"https://www.pilotmall.com/cdn/shop/articles/aviation-risk-management-learn-from-the-pros.jpg?v=1572292655\" alt=\"Airplane in Storm\" width=\"800\" height=\"200\">\n",
    "</div>\n",
    "\n"
   ]
  },
  {
   "cell_type": "markdown",
   "metadata": {},
   "source": [
    "For our data, we looked at NTSB aviation accident records from 1962 to 2023. Our dataset started with about 89,000 accident records from US and foreign flights.\n",
    "\n",
    "For our conditions, we focused on professionally built aircrafts, the top 10 manufacturers for private and commercial aircrafts, inclement weather, and within the past 30 years. \n",
    "\n",
    "Some limitations of our data include not knowing the total number of flights per year, per manufacturer, or the total number of passengers per flight. And there is ambiguous reporting data. For example, if NTSB wasn’t the primary investigator or the cases were under revision, we do not have full details of that accident.\n"
   ]
  },
  {
   "cell_type": "code",
   "execution_count": 25,
   "metadata": {},
   "outputs": [],
   "source": [
    "import pandas as pd\n",
    "import matplotlib.pyplot as plt\n",
    "import numpy as np \n"
   ]
  },
  {
   "cell_type": "markdown",
   "metadata": {},
   "source": [
    "### Aviation Data\n",
    "\n",
    "The [NTSB](https://www.kaggle.com/datasets/khsamaha/aviation-accident-database-synopses) aviation dataset includes aircraft accident and incident records from October 1948 to December 2022, and includes location, accident severity, weather conditions, and aircraft specifications."
   ]
  },
  {
   "cell_type": "code",
   "execution_count": 26,
   "metadata": {},
   "outputs": [
    {
     "name": "stdout",
     "output_type": "stream",
     "text": [
      "<class 'pandas.core.frame.DataFrame'>\n",
      "RangeIndex: 88889 entries, 0 to 88888\n",
      "Data columns (total 31 columns):\n",
      " #   Column                  Non-Null Count  Dtype  \n",
      "---  ------                  --------------  -----  \n",
      " 0   Event.Id                88889 non-null  object \n",
      " 1   Investigation.Type      88889 non-null  object \n",
      " 2   Accident.Number         88889 non-null  object \n",
      " 3   Event.Date              88889 non-null  object \n",
      " 4   Location                88837 non-null  object \n",
      " 5   Country                 88663 non-null  object \n",
      " 6   Latitude                34382 non-null  object \n",
      " 7   Longitude               34373 non-null  object \n",
      " 8   Airport.Code            50249 non-null  object \n",
      " 9   Airport.Name            52790 non-null  object \n",
      " 10  Injury.Severity         87889 non-null  object \n",
      " 11  Aircraft.damage         85695 non-null  object \n",
      " 12  Aircraft.Category       32287 non-null  object \n",
      " 13  Registration.Number     87572 non-null  object \n",
      " 14  Make                    88826 non-null  object \n",
      " 15  Model                   88797 non-null  object \n",
      " 16  Amateur.Built           88787 non-null  object \n",
      " 17  Number.of.Engines       82805 non-null  float64\n",
      " 18  Engine.Type             81812 non-null  object \n",
      " 19  FAR.Description         32023 non-null  object \n",
      " 20  Schedule                12582 non-null  object \n",
      " 21  Purpose.of.flight       82697 non-null  object \n",
      " 22  Air.carrier             16648 non-null  object \n",
      " 23  Total.Fatal.Injuries    77488 non-null  float64\n",
      " 24  Total.Serious.Injuries  76379 non-null  float64\n",
      " 25  Total.Minor.Injuries    76956 non-null  float64\n",
      " 26  Total.Uninjured         82977 non-null  float64\n",
      " 27  Weather.Condition       84397 non-null  object \n",
      " 28  Broad.phase.of.flight   61724 non-null  object \n",
      " 29  Report.Status           82508 non-null  object \n",
      " 30  Publication.Date        75118 non-null  object \n",
      "dtypes: float64(5), object(26)\n",
      "memory usage: 21.0+ MB\n"
     ]
    },
    {
     "name": "stderr",
     "output_type": "stream",
     "text": [
      "/Users/kariprimiano/anaconda3/envs/learn-env/lib/python3.8/site-packages/IPython/core/interactiveshell.py:3145: DtypeWarning: Columns (6,7,28) have mixed types.Specify dtype option on import or set low_memory=False.\n",
      "  has_raised = await self.run_ast_nodes(code_ast.body, cell_name,\n"
     ]
    }
   ],
   "source": [
    "\n",
    "# Read in data with formatting and encoding specifications\n",
    "\n",
    "aviation_df = pd.read_csv('AviationData.csv', encoding='ISO-8859-1', dtype={'column_name_6': 'int64', 'column_name_7': 'float64', 'column_name_28': 'float64'})\n",
    "aviation_df.info()"
   ]
  },
  {
   "cell_type": "code",
   "execution_count": 27,
   "metadata": {},
   "outputs": [
    {
     "data": {
      "text/html": [
       "<div>\n",
       "<style scoped>\n",
       "    .dataframe tbody tr th:only-of-type {\n",
       "        vertical-align: middle;\n",
       "    }\n",
       "\n",
       "    .dataframe tbody tr th {\n",
       "        vertical-align: top;\n",
       "    }\n",
       "\n",
       "    .dataframe thead th {\n",
       "        text-align: right;\n",
       "    }\n",
       "</style>\n",
       "<table border=\"1\" class=\"dataframe\">\n",
       "  <thead>\n",
       "    <tr style=\"text-align: right;\">\n",
       "      <th></th>\n",
       "      <th>Event.Id</th>\n",
       "      <th>Investigation.Type</th>\n",
       "      <th>Accident.Number</th>\n",
       "      <th>Event.Date</th>\n",
       "      <th>Location</th>\n",
       "      <th>Country</th>\n",
       "      <th>Latitude</th>\n",
       "      <th>Longitude</th>\n",
       "      <th>Airport.Code</th>\n",
       "      <th>Airport.Name</th>\n",
       "      <th>...</th>\n",
       "      <th>Purpose.of.flight</th>\n",
       "      <th>Air.carrier</th>\n",
       "      <th>Total.Fatal.Injuries</th>\n",
       "      <th>Total.Serious.Injuries</th>\n",
       "      <th>Total.Minor.Injuries</th>\n",
       "      <th>Total.Uninjured</th>\n",
       "      <th>Weather.Condition</th>\n",
       "      <th>Broad.phase.of.flight</th>\n",
       "      <th>Report.Status</th>\n",
       "      <th>Publication.Date</th>\n",
       "    </tr>\n",
       "  </thead>\n",
       "  <tbody>\n",
       "    <tr>\n",
       "      <th>0</th>\n",
       "      <td>20001218X45444</td>\n",
       "      <td>Accident</td>\n",
       "      <td>SEA87LA080</td>\n",
       "      <td>1948-10-24</td>\n",
       "      <td>MOOSE CREEK, ID</td>\n",
       "      <td>United States</td>\n",
       "      <td>NaN</td>\n",
       "      <td>NaN</td>\n",
       "      <td>NaN</td>\n",
       "      <td>NaN</td>\n",
       "      <td>...</td>\n",
       "      <td>Personal</td>\n",
       "      <td>NaN</td>\n",
       "      <td>2.0</td>\n",
       "      <td>0.0</td>\n",
       "      <td>0.0</td>\n",
       "      <td>0.0</td>\n",
       "      <td>UNK</td>\n",
       "      <td>Cruise</td>\n",
       "      <td>Probable Cause</td>\n",
       "      <td>NaN</td>\n",
       "    </tr>\n",
       "    <tr>\n",
       "      <th>1</th>\n",
       "      <td>20001218X45447</td>\n",
       "      <td>Accident</td>\n",
       "      <td>LAX94LA336</td>\n",
       "      <td>1962-07-19</td>\n",
       "      <td>BRIDGEPORT, CA</td>\n",
       "      <td>United States</td>\n",
       "      <td>NaN</td>\n",
       "      <td>NaN</td>\n",
       "      <td>NaN</td>\n",
       "      <td>NaN</td>\n",
       "      <td>...</td>\n",
       "      <td>Personal</td>\n",
       "      <td>NaN</td>\n",
       "      <td>4.0</td>\n",
       "      <td>0.0</td>\n",
       "      <td>0.0</td>\n",
       "      <td>0.0</td>\n",
       "      <td>UNK</td>\n",
       "      <td>Unknown</td>\n",
       "      <td>Probable Cause</td>\n",
       "      <td>19-09-1996</td>\n",
       "    </tr>\n",
       "    <tr>\n",
       "      <th>2</th>\n",
       "      <td>20061025X01555</td>\n",
       "      <td>Accident</td>\n",
       "      <td>NYC07LA005</td>\n",
       "      <td>1974-08-30</td>\n",
       "      <td>Saltville, VA</td>\n",
       "      <td>United States</td>\n",
       "      <td>36.9222</td>\n",
       "      <td>-81.8781</td>\n",
       "      <td>NaN</td>\n",
       "      <td>NaN</td>\n",
       "      <td>...</td>\n",
       "      <td>Personal</td>\n",
       "      <td>NaN</td>\n",
       "      <td>3.0</td>\n",
       "      <td>NaN</td>\n",
       "      <td>NaN</td>\n",
       "      <td>NaN</td>\n",
       "      <td>IMC</td>\n",
       "      <td>Cruise</td>\n",
       "      <td>Probable Cause</td>\n",
       "      <td>26-02-2007</td>\n",
       "    </tr>\n",
       "    <tr>\n",
       "      <th>3</th>\n",
       "      <td>20001218X45448</td>\n",
       "      <td>Accident</td>\n",
       "      <td>LAX96LA321</td>\n",
       "      <td>1977-06-19</td>\n",
       "      <td>EUREKA, CA</td>\n",
       "      <td>United States</td>\n",
       "      <td>NaN</td>\n",
       "      <td>NaN</td>\n",
       "      <td>NaN</td>\n",
       "      <td>NaN</td>\n",
       "      <td>...</td>\n",
       "      <td>Personal</td>\n",
       "      <td>NaN</td>\n",
       "      <td>2.0</td>\n",
       "      <td>0.0</td>\n",
       "      <td>0.0</td>\n",
       "      <td>0.0</td>\n",
       "      <td>IMC</td>\n",
       "      <td>Cruise</td>\n",
       "      <td>Probable Cause</td>\n",
       "      <td>12-09-2000</td>\n",
       "    </tr>\n",
       "    <tr>\n",
       "      <th>4</th>\n",
       "      <td>20041105X01764</td>\n",
       "      <td>Accident</td>\n",
       "      <td>CHI79FA064</td>\n",
       "      <td>1979-08-02</td>\n",
       "      <td>Canton, OH</td>\n",
       "      <td>United States</td>\n",
       "      <td>NaN</td>\n",
       "      <td>NaN</td>\n",
       "      <td>NaN</td>\n",
       "      <td>NaN</td>\n",
       "      <td>...</td>\n",
       "      <td>Personal</td>\n",
       "      <td>NaN</td>\n",
       "      <td>1.0</td>\n",
       "      <td>2.0</td>\n",
       "      <td>NaN</td>\n",
       "      <td>0.0</td>\n",
       "      <td>VMC</td>\n",
       "      <td>Approach</td>\n",
       "      <td>Probable Cause</td>\n",
       "      <td>16-04-1980</td>\n",
       "    </tr>\n",
       "  </tbody>\n",
       "</table>\n",
       "<p>5 rows × 31 columns</p>\n",
       "</div>"
      ],
      "text/plain": [
       "         Event.Id Investigation.Type Accident.Number  Event.Date  \\\n",
       "0  20001218X45444           Accident      SEA87LA080  1948-10-24   \n",
       "1  20001218X45447           Accident      LAX94LA336  1962-07-19   \n",
       "2  20061025X01555           Accident      NYC07LA005  1974-08-30   \n",
       "3  20001218X45448           Accident      LAX96LA321  1977-06-19   \n",
       "4  20041105X01764           Accident      CHI79FA064  1979-08-02   \n",
       "\n",
       "          Location        Country Latitude Longitude Airport.Code  \\\n",
       "0  MOOSE CREEK, ID  United States      NaN       NaN          NaN   \n",
       "1   BRIDGEPORT, CA  United States      NaN       NaN          NaN   \n",
       "2    Saltville, VA  United States  36.9222  -81.8781          NaN   \n",
       "3       EUREKA, CA  United States      NaN       NaN          NaN   \n",
       "4       Canton, OH  United States      NaN       NaN          NaN   \n",
       "\n",
       "  Airport.Name  ... Purpose.of.flight Air.carrier Total.Fatal.Injuries  \\\n",
       "0          NaN  ...          Personal         NaN                  2.0   \n",
       "1          NaN  ...          Personal         NaN                  4.0   \n",
       "2          NaN  ...          Personal         NaN                  3.0   \n",
       "3          NaN  ...          Personal         NaN                  2.0   \n",
       "4          NaN  ...          Personal         NaN                  1.0   \n",
       "\n",
       "  Total.Serious.Injuries Total.Minor.Injuries Total.Uninjured  \\\n",
       "0                    0.0                  0.0             0.0   \n",
       "1                    0.0                  0.0             0.0   \n",
       "2                    NaN                  NaN             NaN   \n",
       "3                    0.0                  0.0             0.0   \n",
       "4                    2.0                  NaN             0.0   \n",
       "\n",
       "  Weather.Condition  Broad.phase.of.flight   Report.Status Publication.Date  \n",
       "0               UNK                 Cruise  Probable Cause              NaN  \n",
       "1               UNK                Unknown  Probable Cause       19-09-1996  \n",
       "2               IMC                 Cruise  Probable Cause       26-02-2007  \n",
       "3               IMC                 Cruise  Probable Cause       12-09-2000  \n",
       "4               VMC               Approach  Probable Cause       16-04-1980  \n",
       "\n",
       "[5 rows x 31 columns]"
      ]
     },
     "execution_count": 27,
     "metadata": {},
     "output_type": "execute_result"
    }
   ],
   "source": [
    "aviation_df.head()"
   ]
  },
  {
   "cell_type": "markdown",
   "metadata": {},
   "source": [
    "### Data Cleaning\n",
    "\n",
    "To make the aviation data more usable for analysis, we are normalizing relevant column values and names, and dropping columns that are irrelevant to our business problem."
   ]
  },
  {
   "cell_type": "code",
   "execution_count": 28,
   "metadata": {},
   "outputs": [],
   "source": [
    "# Format column names for standardization\n",
    "# Format aircraft makes because we will need to filter and clean this column for our business problem\n",
    "\n",
    "aviation_df[\"Make\"] = aviation_df[\"Make\"].str.lower()\n",
    "aviation_df[\"Weather.Condition\"] = aviation_df[\"Weather.Condition\"].str.upper()\n",
    "aviation_df.columns = aviation_df.columns.str.lower().str.replace('.', '_')"
   ]
  },
  {
   "cell_type": "code",
   "execution_count": 29,
   "metadata": {},
   "outputs": [],
   "source": [
    "# Drop columns that are irrelevant to our business problem \n",
    "# and/or have over 50% null values\n",
    "\n",
    "aviation_df.drop(columns = [\"location\", \"registration_number\", \"accident_number\", \n",
    "                            \"latitude\", \"longitude\", \"airport_code\", \"airport_name\", \n",
    "                            \"far_description\", \"schedule\", \"air_carrier\", \"report_status\", \n",
    "                            \"publication_date\"], inplace=True)\n"
   ]
  },
  {
   "cell_type": "markdown",
   "metadata": {},
   "source": [
    "## Data Preparation"
   ]
  },
  {
   "cell_type": "markdown",
   "metadata": {},
   "source": [
    "### Filtering Data\n",
    "\n",
    "To prepare the data for our specified analysis, we are parsing the event year into a new column and filtering a new dataframe to include the conditions of our business problem. The new filtered dataframe will include professionally built private and commercial aircrafts for the top ten manufacturers within the past 30 years."
   ]
  },
  {
   "cell_type": "code",
   "execution_count": 30,
   "metadata": {},
   "outputs": [
    {
     "data": {
      "text/html": [
       "<div>\n",
       "<style scoped>\n",
       "    .dataframe tbody tr th:only-of-type {\n",
       "        vertical-align: middle;\n",
       "    }\n",
       "\n",
       "    .dataframe tbody tr th {\n",
       "        vertical-align: top;\n",
       "    }\n",
       "\n",
       "    .dataframe thead th {\n",
       "        text-align: right;\n",
       "    }\n",
       "</style>\n",
       "<table border=\"1\" class=\"dataframe\">\n",
       "  <thead>\n",
       "    <tr style=\"text-align: right;\">\n",
       "      <th></th>\n",
       "      <th>event_id</th>\n",
       "      <th>investigation_type</th>\n",
       "      <th>event_date</th>\n",
       "      <th>country</th>\n",
       "      <th>injury_severity</th>\n",
       "      <th>aircraft_damage</th>\n",
       "      <th>aircraft_category</th>\n",
       "      <th>make</th>\n",
       "      <th>model</th>\n",
       "      <th>amateur_built</th>\n",
       "      <th>number_of_engines</th>\n",
       "      <th>engine_type</th>\n",
       "      <th>purpose_of_flight</th>\n",
       "      <th>total_fatal_injuries</th>\n",
       "      <th>total_serious_injuries</th>\n",
       "      <th>total_minor_injuries</th>\n",
       "      <th>total_uninjured</th>\n",
       "      <th>weather_condition</th>\n",
       "      <th>broad_phase_of_flight</th>\n",
       "      <th>event_year</th>\n",
       "    </tr>\n",
       "  </thead>\n",
       "  <tbody>\n",
       "    <tr>\n",
       "      <th>0</th>\n",
       "      <td>20001218X45444</td>\n",
       "      <td>Accident</td>\n",
       "      <td>1948-10-24</td>\n",
       "      <td>United States</td>\n",
       "      <td>Fatal(2)</td>\n",
       "      <td>Destroyed</td>\n",
       "      <td>NaN</td>\n",
       "      <td>stinson</td>\n",
       "      <td>108-3</td>\n",
       "      <td>No</td>\n",
       "      <td>1.0</td>\n",
       "      <td>Reciprocating</td>\n",
       "      <td>Personal</td>\n",
       "      <td>2.0</td>\n",
       "      <td>0.0</td>\n",
       "      <td>0.0</td>\n",
       "      <td>0.0</td>\n",
       "      <td>UNK</td>\n",
       "      <td>Cruise</td>\n",
       "      <td>1948</td>\n",
       "    </tr>\n",
       "    <tr>\n",
       "      <th>1</th>\n",
       "      <td>20001218X45447</td>\n",
       "      <td>Accident</td>\n",
       "      <td>1962-07-19</td>\n",
       "      <td>United States</td>\n",
       "      <td>Fatal(4)</td>\n",
       "      <td>Destroyed</td>\n",
       "      <td>NaN</td>\n",
       "      <td>piper</td>\n",
       "      <td>PA24-180</td>\n",
       "      <td>No</td>\n",
       "      <td>1.0</td>\n",
       "      <td>Reciprocating</td>\n",
       "      <td>Personal</td>\n",
       "      <td>4.0</td>\n",
       "      <td>0.0</td>\n",
       "      <td>0.0</td>\n",
       "      <td>0.0</td>\n",
       "      <td>UNK</td>\n",
       "      <td>Unknown</td>\n",
       "      <td>1962</td>\n",
       "    </tr>\n",
       "    <tr>\n",
       "      <th>2</th>\n",
       "      <td>20061025X01555</td>\n",
       "      <td>Accident</td>\n",
       "      <td>1974-08-30</td>\n",
       "      <td>United States</td>\n",
       "      <td>Fatal(3)</td>\n",
       "      <td>Destroyed</td>\n",
       "      <td>NaN</td>\n",
       "      <td>cessna</td>\n",
       "      <td>172M</td>\n",
       "      <td>No</td>\n",
       "      <td>1.0</td>\n",
       "      <td>Reciprocating</td>\n",
       "      <td>Personal</td>\n",
       "      <td>3.0</td>\n",
       "      <td>NaN</td>\n",
       "      <td>NaN</td>\n",
       "      <td>NaN</td>\n",
       "      <td>IMC</td>\n",
       "      <td>Cruise</td>\n",
       "      <td>1974</td>\n",
       "    </tr>\n",
       "    <tr>\n",
       "      <th>3</th>\n",
       "      <td>20001218X45448</td>\n",
       "      <td>Accident</td>\n",
       "      <td>1977-06-19</td>\n",
       "      <td>United States</td>\n",
       "      <td>Fatal(2)</td>\n",
       "      <td>Destroyed</td>\n",
       "      <td>NaN</td>\n",
       "      <td>rockwell</td>\n",
       "      <td>112</td>\n",
       "      <td>No</td>\n",
       "      <td>1.0</td>\n",
       "      <td>Reciprocating</td>\n",
       "      <td>Personal</td>\n",
       "      <td>2.0</td>\n",
       "      <td>0.0</td>\n",
       "      <td>0.0</td>\n",
       "      <td>0.0</td>\n",
       "      <td>IMC</td>\n",
       "      <td>Cruise</td>\n",
       "      <td>1977</td>\n",
       "    </tr>\n",
       "    <tr>\n",
       "      <th>4</th>\n",
       "      <td>20041105X01764</td>\n",
       "      <td>Accident</td>\n",
       "      <td>1979-08-02</td>\n",
       "      <td>United States</td>\n",
       "      <td>Fatal(1)</td>\n",
       "      <td>Destroyed</td>\n",
       "      <td>NaN</td>\n",
       "      <td>cessna</td>\n",
       "      <td>501</td>\n",
       "      <td>No</td>\n",
       "      <td>NaN</td>\n",
       "      <td>NaN</td>\n",
       "      <td>Personal</td>\n",
       "      <td>1.0</td>\n",
       "      <td>2.0</td>\n",
       "      <td>NaN</td>\n",
       "      <td>0.0</td>\n",
       "      <td>VMC</td>\n",
       "      <td>Approach</td>\n",
       "      <td>1979</td>\n",
       "    </tr>\n",
       "  </tbody>\n",
       "</table>\n",
       "</div>"
      ],
      "text/plain": [
       "         event_id investigation_type  event_date        country  \\\n",
       "0  20001218X45444           Accident  1948-10-24  United States   \n",
       "1  20001218X45447           Accident  1962-07-19  United States   \n",
       "2  20061025X01555           Accident  1974-08-30  United States   \n",
       "3  20001218X45448           Accident  1977-06-19  United States   \n",
       "4  20041105X01764           Accident  1979-08-02  United States   \n",
       "\n",
       "  injury_severity aircraft_damage aircraft_category      make     model  \\\n",
       "0        Fatal(2)       Destroyed               NaN   stinson     108-3   \n",
       "1        Fatal(4)       Destroyed               NaN     piper  PA24-180   \n",
       "2        Fatal(3)       Destroyed               NaN    cessna      172M   \n",
       "3        Fatal(2)       Destroyed               NaN  rockwell       112   \n",
       "4        Fatal(1)       Destroyed               NaN    cessna       501   \n",
       "\n",
       "  amateur_built  number_of_engines    engine_type purpose_of_flight  \\\n",
       "0            No                1.0  Reciprocating          Personal   \n",
       "1            No                1.0  Reciprocating          Personal   \n",
       "2            No                1.0  Reciprocating          Personal   \n",
       "3            No                1.0  Reciprocating          Personal   \n",
       "4            No                NaN            NaN          Personal   \n",
       "\n",
       "   total_fatal_injuries  total_serious_injuries  total_minor_injuries  \\\n",
       "0                   2.0                     0.0                   0.0   \n",
       "1                   4.0                     0.0                   0.0   \n",
       "2                   3.0                     NaN                   NaN   \n",
       "3                   2.0                     0.0                   0.0   \n",
       "4                   1.0                     2.0                   NaN   \n",
       "\n",
       "   total_uninjured weather_condition broad_phase_of_flight  event_year  \n",
       "0              0.0               UNK                Cruise        1948  \n",
       "1              0.0               UNK               Unknown        1962  \n",
       "2              NaN               IMC                Cruise        1974  \n",
       "3              0.0               IMC                Cruise        1977  \n",
       "4              0.0               VMC              Approach        1979  "
      ]
     },
     "execution_count": 30,
     "metadata": {},
     "output_type": "execute_result"
    }
   ],
   "source": [
    "# Create column with the year of each event\n",
    "\n",
    "aviation_df['event_year'] = [int(year[:4]) for year in aviation_df['event_date']]\n",
    "aviation_df.head()"
   ]
  },
  {
   "cell_type": "code",
   "execution_count": 31,
   "metadata": {},
   "outputs": [
    {
     "data": {
      "text/plain": [
       "Personal                     49448\n",
       "Instructional                10601\n",
       "Unknown                       6802\n",
       "Aerial Application            4712\n",
       "Business                      4018\n",
       "Positioning                   1646\n",
       "Other Work Use                1264\n",
       "Ferry                          812\n",
       "Aerial Observation             794\n",
       "Public Aircraft                720\n",
       "Executive/corporate            553\n",
       "Flight Test                    405\n",
       "Skydiving                      182\n",
       "External Load                  123\n",
       "Public Aircraft - Federal      105\n",
       "Banner Tow                     101\n",
       "Air Race show                   99\n",
       "Public Aircraft - Local         74\n",
       "Public Aircraft - State         64\n",
       "Air Race/show                   59\n",
       "Glider Tow                      53\n",
       "Firefighting                    40\n",
       "Air Drop                        11\n",
       "ASHO                             6\n",
       "PUBS                             4\n",
       "PUBL                             1\n",
       "Name: purpose_of_flight, dtype: int64"
      ]
     },
     "execution_count": 31,
     "metadata": {},
     "output_type": "execute_result"
    }
   ],
   "source": [
    "aviation_df[\"purpose_of_flight\"].value_counts()"
   ]
  },
  {
   "cell_type": "code",
   "execution_count": 32,
   "metadata": {},
   "outputs": [
    {
     "data": {
      "text/plain": [
       "No     80312\n",
       "Yes     8475\n",
       "Name: amateur_built, dtype: int64"
      ]
     },
     "execution_count": 32,
     "metadata": {},
     "output_type": "execute_result"
    }
   ],
   "source": [
    "aviation_df[\"amateur_built\"].value_counts()"
   ]
  },
  {
   "cell_type": "code",
   "execution_count": 33,
   "metadata": {},
   "outputs": [
    {
     "name": "stdout",
     "output_type": "stream",
     "text": [
      "<class 'pandas.core.frame.DataFrame'>\n",
      "Int64Index: 19066 entries, 29671 to 88888\n",
      "Data columns (total 20 columns):\n",
      " #   Column                  Non-Null Count  Dtype  \n",
      "---  ------                  --------------  -----  \n",
      " 0   event_id                19066 non-null  object \n",
      " 1   investigation_type      19066 non-null  object \n",
      " 2   event_date              19066 non-null  object \n",
      " 3   country                 19050 non-null  object \n",
      " 4   injury_severity         19039 non-null  object \n",
      " 5   aircraft_damage         18752 non-null  object \n",
      " 6   aircraft_category       7712 non-null   object \n",
      " 7   make                    19066 non-null  object \n",
      " 8   model                   19062 non-null  object \n",
      " 9   amateur_built           19066 non-null  object \n",
      " 10  number_of_engines       18325 non-null  float64\n",
      " 11  engine_type             18077 non-null  object \n",
      " 12  purpose_of_flight       19066 non-null  object \n",
      " 13  total_fatal_injuries    15531 non-null  float64\n",
      " 14  total_serious_injuries  15077 non-null  float64\n",
      " 15  total_minor_injuries    15333 non-null  float64\n",
      " 16  total_uninjured         17365 non-null  float64\n",
      " 17  weather_condition       18661 non-null  object \n",
      " 18  broad_phase_of_flight   12044 non-null  object \n",
      " 19  event_year              19066 non-null  int64  \n",
      "dtypes: float64(5), int64(1), object(14)\n",
      "memory usage: 3.1+ MB\n"
     ]
    }
   ],
   "source": [
    "# Filter dates, amateur built, and purpose of flight\n",
    "\n",
    "\n",
    "# Select purposes of flight that are relevant to commercial and private aircrafts\n",
    "selected_purposes = [\"Personal\", \"Business\", \"Executive/corporate\", \"Public Aircraft\", \"Other Work Use\", \"Unknown\"]\n",
    "\n",
    "\n",
    "# Create new df of filtered data\n",
    "filtered_df = aviation_df[(aviation_df[\"event_year\"] >= 1992) & \n",
    "                          (aviation_df[\"purpose_of_flight\"].isin(selected_purposes)) & \n",
    "                          (aviation_df[\"amateur_built\"] == \"No\") & \n",
    "                          ((aviation_df['make'].str.contains('airbus')) | \n",
    "                           (aviation_df['make'].str.contains('boeing')) | \n",
    "                           (aviation_df['make'].str.contains('cessna')) | \n",
    "                           (aviation_df['make'].str.contains('mitsubishi')) | \n",
    "                           (aviation_df['make'].str.contains('piper')) | \n",
    "                           (aviation_df['make'].str.contains('beechcraft')) | \n",
    "                           (aviation_df['make'].str.contains('bombardier')) | \n",
    "                           (aviation_df['make'].str.contains('embraer')) | \n",
    "                           (aviation_df['make'].str.contains('diamond')) | \n",
    "                           (aviation_df['make'].str.contains('gulfstream')))]\n",
    "filtered_df.info()"
   ]
  },
  {
   "cell_type": "markdown",
   "metadata": {},
   "source": [
    "### Null Values\n",
    "\n",
    "We are replacing empty injury records with a value of 0 where at least one other injury-related entry had a non-null value, per accident record. \n",
    "\n",
    "If an accident had any injury-related data, we decided that the associated empty records were left blank because no injuries of that kind existed. \n",
    "\n",
    "Contextually, this allows the empty records to be more meaningful within our data and provide cleaner results."
   ]
  },
  {
   "cell_type": "code",
   "execution_count": 34,
   "metadata": {},
   "outputs": [
    {
     "data": {
      "text/plain": [
       "22"
      ]
     },
     "execution_count": 34,
     "metadata": {},
     "output_type": "execute_result"
    }
   ],
   "source": [
    "# Identify total null values across columns indicating accident severity\n",
    "\n",
    "((filtered_df['total_fatal_injuries'].isna()) \n",
    " & (filtered_df['total_serious_injuries'].isna()) \n",
    " & (filtered_df['total_minor_injuries'].isna()) \n",
    " & (filtered_df['total_uninjured'].isna())).sum()"
   ]
  },
  {
   "cell_type": "code",
   "execution_count": 35,
   "metadata": {},
   "outputs": [
    {
     "name": "stderr",
     "output_type": "stream",
     "text": [
      "<ipython-input-35-7ce79fa72a2a>:3: SettingWithCopyWarning: \n",
      "A value is trying to be set on a copy of a slice from a DataFrame.\n",
      "Try using .loc[row_indexer,col_indexer] = value instead\n",
      "\n",
      "See the caveats in the documentation: https://pandas.pydata.org/pandas-docs/stable/user_guide/indexing.html#returning-a-view-versus-a-copy\n",
      "  filtered_df['injuries_reported'] = ((filtered_df['total_fatal_injuries'].notna())\n"
     ]
    },
    {
     "data": {
      "text/plain": [
       "True     19044\n",
       "False       22\n",
       "Name: injuries_reported, dtype: int64"
      ]
     },
     "execution_count": 35,
     "metadata": {},
     "output_type": "execute_result"
    }
   ],
   "source": [
    "# Create new column identifying total accident records that reported injury severity\n",
    "\n",
    "filtered_df['injuries_reported'] = ((filtered_df['total_fatal_injuries'].notna()) \n",
    " | (filtered_df['total_serious_injuries'].notna()) \n",
    " | (filtered_df['total_minor_injuries'].notna()) \n",
    " | (filtered_df['total_uninjured'].notna()))\n",
    "\n",
    "# Sanity check\n",
    "filtered_df['injuries_reported'].value_counts()"
   ]
  },
  {
   "cell_type": "code",
   "execution_count": 36,
   "metadata": {},
   "outputs": [
    {
     "name": "stderr",
     "output_type": "stream",
     "text": [
      "<ipython-input-36-bc43fe9277a1>:2: SettingWithCopyWarning: \n",
      "A value is trying to be set on a copy of a slice from a DataFrame.\n",
      "Try using .loc[row_indexer,col_indexer] = value instead\n",
      "\n",
      "See the caveats in the documentation: https://pandas.pydata.org/pandas-docs/stable/user_guide/indexing.html#returning-a-view-versus-a-copy\n",
      "  filtered_df['total_fatal_injuries'] = filtered_df['total_fatal_injuries'].fillna(0)\n",
      "<ipython-input-36-bc43fe9277a1>:3: SettingWithCopyWarning: \n",
      "A value is trying to be set on a copy of a slice from a DataFrame.\n",
      "Try using .loc[row_indexer,col_indexer] = value instead\n",
      "\n",
      "See the caveats in the documentation: https://pandas.pydata.org/pandas-docs/stable/user_guide/indexing.html#returning-a-view-versus-a-copy\n",
      "  filtered_df['total_serious_injuries'] = filtered_df['total_serious_injuries'].fillna(0)\n",
      "<ipython-input-36-bc43fe9277a1>:4: SettingWithCopyWarning: \n",
      "A value is trying to be set on a copy of a slice from a DataFrame.\n",
      "Try using .loc[row_indexer,col_indexer] = value instead\n",
      "\n",
      "See the caveats in the documentation: https://pandas.pydata.org/pandas-docs/stable/user_guide/indexing.html#returning-a-view-versus-a-copy\n",
      "  filtered_df['total_minor_injuries'] = filtered_df['total_minor_injuries'].fillna(0)\n",
      "<ipython-input-36-bc43fe9277a1>:5: SettingWithCopyWarning: \n",
      "A value is trying to be set on a copy of a slice from a DataFrame.\n",
      "Try using .loc[row_indexer,col_indexer] = value instead\n",
      "\n",
      "See the caveats in the documentation: https://pandas.pydata.org/pandas-docs/stable/user_guide/indexing.html#returning-a-view-versus-a-copy\n",
      "  filtered_df['total_uninjured'] = filtered_df['total_uninjured'].fillna(0)\n"
     ]
    }
   ],
   "source": [
    "# Replacing null values\n",
    "filtered_df['total_fatal_injuries'] = filtered_df['total_fatal_injuries'].fillna(0)\n",
    "filtered_df['total_serious_injuries'] = filtered_df['total_serious_injuries'].fillna(0)\n",
    "filtered_df['total_minor_injuries'] = filtered_df['total_minor_injuries'].fillna(0)\n",
    "filtered_df['total_uninjured'] = filtered_df['total_uninjured'].fillna(0)"
   ]
  },
  {
   "cell_type": "code",
   "execution_count": 37,
   "metadata": {},
   "outputs": [
    {
     "data": {
      "text/plain": [
       "0"
      ]
     },
     "execution_count": 37,
     "metadata": {},
     "output_type": "execute_result"
    }
   ],
   "source": [
    "# Sanity check\n",
    "filtered_df['total_fatal_injuries'].isna().sum()"
   ]
  },
  {
   "cell_type": "code",
   "execution_count": 38,
   "metadata": {},
   "outputs": [
    {
     "data": {
      "text/plain": [
       "cessna                      11144\n",
       "piper                        6855\n",
       "boeing                        583\n",
       "mitsubishi                     55\n",
       "airbus industrie               43\n",
       "                            ...  \n",
       "new piper aircraft, inc.        1\n",
       "cessna wren                     1\n",
       "hawker beechcraft corp.         1\n",
       "cessna aircraft co.             1\n",
       "cessna reems                    1\n",
       "Name: make, Length: 63, dtype: int64"
      ]
     },
     "execution_count": 38,
     "metadata": {},
     "output_type": "execute_result"
    }
   ],
   "source": [
    "filtered_df[\"make\"].value_counts()"
   ]
  },
  {
   "cell_type": "markdown",
   "metadata": {},
   "source": [
    "## Feature Engineering\n",
    "\n",
    "We created a <code>top_companies</code> feature to use in counting how many records for each of our top 10 manufacturing companies are within our dataset. And we use this feature to combine and unify the company names within the data."
   ]
  },
  {
   "cell_type": "code",
   "execution_count": 39,
   "metadata": {},
   "outputs": [
    {
     "data": {
      "text/plain": [
       "{'cessna': 11144,\n",
       " 'piper': 6855,\n",
       " 'boeing': 583,\n",
       " 'mitsubishi': 55,\n",
       " 'embraer': 41,\n",
       " 'gulfstream': 18,\n",
       " 'beechcraft': 20,\n",
       " 'bombardier': 5,\n",
       " 'diamond': 15,\n",
       " 'airbus': 5}"
      ]
     },
     "execution_count": 39,
     "metadata": {},
     "output_type": "execute_result"
    }
   ],
   "source": [
    "# Create list of top 10 manufacturing companies\n",
    "top_companies = [\"boeing\", \"airbus\", \"bombardier\", \"embraer\", \"cessna\", \"piper\", \n",
    "             \"diamond\", \"mitsubishi\", \"beechcraft\", \"gulfstream\"]\n",
    "\n",
    "# Create dictionary of top manufacturing companies with number of values in data\n",
    "counts = {}\n",
    "for company in filtered_df[\"make\"]:\n",
    "    if company in top_companies:\n",
    "        if company in counts:\n",
    "            counts[company] +=1\n",
    "        else:\n",
    "            counts[company] = 1\n",
    "            \n",
    "            \n",
    "counts"
   ]
  },
  {
   "cell_type": "code",
   "execution_count": 40,
   "metadata": {},
   "outputs": [
    {
     "name": "stdout",
     "output_type": "stream",
     "text": [
      "cessna        11173\n",
      "piper          6899\n",
      "boeing          633\n",
      "diamond          76\n",
      "gulfstream       69\n",
      "airbus           56\n",
      "mitsubishi       55\n",
      "beechcraft       48\n",
      "embraer          44\n",
      "bombardier       13\n",
      "Name: make, dtype: int64\n"
     ]
    },
    {
     "name": "stderr",
     "output_type": "stream",
     "text": [
      "/Users/kariprimiano/anaconda3/envs/learn-env/lib/python3.8/site-packages/pandas/core/indexing.py:1765: SettingWithCopyWarning: \n",
      "A value is trying to be set on a copy of a slice from a DataFrame.\n",
      "Try using .loc[row_indexer,col_indexer] = value instead\n",
      "\n",
      "See the caveats in the documentation: https://pandas.pydata.org/pandas-docs/stable/user_guide/indexing.html#returning-a-view-versus-a-copy\n",
      "  isetter(loc, value)\n"
     ]
    }
   ],
   "source": [
    "# Iterate through \"make\" column to combine all values containing our \n",
    "# top companies under a unified name and format\n",
    "\n",
    "for company in top_companies:\n",
    "    mask = filtered_df['make'].str.contains(company, case=False, na=False)\n",
    "    filtered_df.loc[mask, 'make'] = company\n",
    "\n",
    "print(filtered_df[\"make\"].value_counts())"
   ]
  },
  {
   "cell_type": "code",
   "execution_count": 41,
   "metadata": {},
   "outputs": [],
   "source": [
    "# Save cleaned dataset as CSV\n",
    "\n",
    "filtered_df.to_csv('cleaned_aviation_df.csv')"
   ]
  },
  {
   "cell_type": "markdown",
   "metadata": {},
   "source": [
    "## Analysis"
   ]
  },
  {
   "cell_type": "markdown",
   "metadata": {},
   "source": [
    "### Accidents Over Time\n",
    "\n",
    "Most recorded accidents have happened after the 1980s, even though safety standards have significantly increased every decade since the 1950s. Referenced safety standards can be found on the [FAA website](https://www.faa.gov/about/history/brief_history).\n",
    "\n",
    "This increase in accidents may be a result of increased air traffic. We will assess other factors including weather conditions."
   ]
  },
  {
   "cell_type": "code",
   "execution_count": 42,
   "metadata": {},
   "outputs": [],
   "source": [
    "# Create new variable to group number of accidents per year\n",
    "\n",
    "accidents_by_year = aviation_df.groupby('event_year').size().reset_index(name='accident_count')"
   ]
  },
  {
   "cell_type": "code",
   "execution_count": 43,
   "metadata": {},
   "outputs": [
    {
     "data": {
      "image/png": "[encoded data removed]",
      "text/plain": [
       "<Figure size 720x432 with 1 Axes>"
      ]
     },
     "metadata": {
      "needs_background": "light"
     },
     "output_type": "display_data"
    }
   ],
   "source": [
    "# Set the figure size\n",
    "plt.figure(figsize=(10, 6))\n",
    "\n",
    "# Create plot\n",
    "plt.plot(accidents_by_year['event_year'], accidents_by_year['accident_count'], marker='o', linestyle='-')\n",
    "plt.xlabel('event_year')\n",
    "plt.ylabel('Number of Accidents')\n",
    "plt.title('Number of Accidents Over Time')\n",
    "\n",
    "# Add grid lines\n",
    "plt.grid(True)\n",
    "plt.show()"
   ]
  },
  {
   "cell_type": "markdown",
   "metadata": {},
   "source": [
    "### Professional vs. Amateur Build Accidents\n",
    "\n",
    "Establishing what type of aircraft build our company should invest in for their new aviation division. With amateur builds ..."
   ]
  },
  {
   "cell_type": "code",
   "execution_count": 44,
   "metadata": {},
   "outputs": [
    {
     "data": {
      "text/html": [
       "<div>\n",
       "<style scoped>\n",
       "    .dataframe tbody tr th:only-of-type {\n",
       "        vertical-align: middle;\n",
       "    }\n",
       "\n",
       "    .dataframe tbody tr th {\n",
       "        vertical-align: top;\n",
       "    }\n",
       "\n",
       "    .dataframe thead th {\n",
       "        text-align: right;\n",
       "    }\n",
       "</style>\n",
       "<table border=\"1\" class=\"dataframe\">\n",
       "  <thead>\n",
       "    <tr style=\"text-align: right;\">\n",
       "      <th>total_fatal_injuries</th>\n",
       "      <th>False</th>\n",
       "      <th>True</th>\n",
       "    </tr>\n",
       "    <tr>\n",
       "      <th>amateur_built</th>\n",
       "      <th></th>\n",
       "      <th></th>\n",
       "    </tr>\n",
       "  </thead>\n",
       "  <tbody>\n",
       "    <tr>\n",
       "      <th>No</th>\n",
       "      <td>0.913825</td>\n",
       "      <td>0.867492</td>\n",
       "    </tr>\n",
       "    <tr>\n",
       "      <th>Yes</th>\n",
       "      <td>0.086175</td>\n",
       "      <td>0.132508</td>\n",
       "    </tr>\n",
       "  </tbody>\n",
       "</table>\n",
       "</div>"
      ],
      "text/plain": [
       "total_fatal_injuries     False     True \n",
       "amateur_built                           \n",
       "No                    0.913825  0.867492\n",
       "Yes                   0.086175  0.132508"
      ]
     },
     "execution_count": 44,
     "metadata": {},
     "output_type": "execute_result"
    }
   ],
   "source": [
    "accidents_by_build = pd.crosstab(aviation_df['amateur_built'], aviation_df['total_fatal_injuries'] > 0, normalize = 'columns')\n",
    "accidents_by_build"
   ]
  },
  {
   "cell_type": "code",
   "execution_count": 45,
   "metadata": {},
   "outputs": [
    {
     "data": {
      "image/png": "[encoded data removed]",
      "text/plain": [
       "<Figure size 360x432 with 1 Axes>"
      ]
     },
     "metadata": {
      "needs_background": "light"
     },
     "output_type": "display_data"
    }
   ],
   "source": [
    "import matplotlib.ticker as mtick\n",
    "\n",
    "accidents_by_build_fig, accidents_by_build_ax = plt.subplots(figsize=(5, 6))\n",
    "\n",
    "accidents_by_build_ax.set_title('Fatal Accidents by Aircraft Bulid')\n",
    "accidents_by_build_ax.set_ylabel('Percent of Accidents by Aircraft Bulid')\n",
    "accidents_by_build_ax.set_xlabel('Build Type')\n",
    "\n",
    "build_type = accidents_by_build.columns\n",
    "am = accidents_by_build.loc['Yes']*100\n",
    "pro = accidents_by_build.loc['No']*100\n",
    "\n",
    "am_bar_plt = accidents_by_build_ax.bar(build_type, pro )\n",
    "pro_bar_plt = accidents_by_build_ax.bar(build_type, am, bottom = pro )\n",
    "\n",
    "accidents_by_build_ax.legend([am_bar_plt, pro_bar_plt], ['Yes', 'No'], loc = 'upper left')\n",
    "accidents_by_build_ax.yaxis.set_major_formatter(mtick.PercentFormatter())\n",
    "accidents_by_build_ax.set_xticks([.2, .8])\n",
    "accidents_by_build_ax.set_xticklabels(['Fatal Accident', 'Nonfatal Accident'])\n",
    "accidents_by_build_ax.set_xlim(0, 1)\n",
    "\n",
    "plt.show();"
   ]
  },
  {
   "cell_type": "markdown",
   "metadata": {},
   "source": [
    "REMOVE??\n",
    "\n",
    "### Professionally Built Aircraft Accidents in Past 30 Years\n",
    "\n",
    "After establishing our recommended build type, we want to look at its \n",
    "\n"
   ]
  },
  {
   "cell_type": "code",
   "execution_count": 46,
   "metadata": {},
   "outputs": [],
   "source": [
    "# Create new filtered df with all companies\n",
    "new_filtered_df = aviation_df[(aviation_df[\"event_year\"] >= 1992) & \n",
    "                          (aviation_df[\"purpose_of_flight\"].isin(selected_purposes)) & \n",
    "                          (aviation_df[\"amateur_built\"] == \"No\")]"
   ]
  },
  {
   "cell_type": "code",
   "execution_count": 47,
   "metadata": {},
   "outputs": [
    {
     "data": {
      "image/png": "[encoded data removed]",
      "text/plain": [
       "<Figure size 720x432 with 1 Axes>"
      ]
     },
     "metadata": {
      "needs_background": "light"
     },
     "output_type": "display_data"
    }
   ],
   "source": [
    "prof_by_year = new_filtered_df.groupby('event_year').size().reset_index(name='accident_count')\n",
    "\n",
    "\n",
    "#Set the figure size\n",
    "plt.figure(figsize=(10, 6))\n",
    "\n",
    "#Create plot\n",
    "prof = plt.plot(prof_by_year['event_year'], prof_by_year['accident_count'], marker='o', linestyle='-')\n",
    "plt.xlabel('Year')\n",
    "plt.ylabel('Number of Accidents')\n",
    "plt.title('Professionally Built Aircraft Accidents in Past 30 Years')\n",
    "\n",
    "\n",
    "#Add grid lines\n",
    "plt.grid(True)\n",
    "plt.show()\n"
   ]
  },
  {
   "cell_type": "markdown",
   "metadata": {},
   "source": [
    "### Accidents by Injury Type in Past 30 Years\n",
    "\n",
    "Fatal, serious, and minor injuries are not declining as steeply as we would like. Therefore, further analysis required. Additionally, we are using these criteria as a baseline for assessing accident severity."
   ]
  },
  {
   "cell_type": "code",
   "execution_count": 48,
   "metadata": {},
   "outputs": [],
   "source": [
    "# Create filtered df by injury type\n",
    "\n",
    "filtered_fatal_df = new_filtered_df[new_filtered_df[\"total_fatal_injuries\"] > 0]\n",
    "filtered_serious_df = new_filtered_df[new_filtered_df[\"total_serious_injuries\"] > 0]\n",
    "filtered_minor_df = new_filtered_df[new_filtered_df[\"total_minor_injuries\"] > 0]\n",
    "filtered_uninjured_df = new_filtered_df[new_filtered_df[\"total_uninjured\"] > 0]"
   ]
  },
  {
   "cell_type": "code",
   "execution_count": 49,
   "metadata": {},
   "outputs": [
    {
     "data": {
      "image/png": "[encoded data removed]",
      "text/plain": [
       "<Figure size 720x432 with 1 Axes>"
      ]
     },
     "metadata": {
      "needs_background": "light"
     },
     "output_type": "display_data"
    }
   ],
   "source": [
    "# Create a feauture for each injury type\n",
    "# Group each injury type by the number of accidents per year\n",
    "# Reset index to use as the accident count\n",
    "\n",
    "fatal_by_year = filtered_fatal_df.groupby('event_year').size().reset_index(name='accident_count')\n",
    "serious_by_year = filtered_serious_df.groupby('event_year').size().reset_index(name='accident_count')\n",
    "minor_by_year = filtered_minor_df.groupby('event_year').size().reset_index(name='accident_count')\n",
    "uninjured_by_year = filtered_uninjured_df.groupby('event_year').size().reset_index(name='accident_count')\n",
    "\n",
    "# Set the figure size\n",
    "plt.figure(figsize=(10, 6))\n",
    "\n",
    "# Create plot\n",
    "fatal = plt.plot(fatal_by_year['event_year'], fatal_by_year['accident_count'], color=\"red\", marker='o', linestyle='-')\n",
    "serious = plt.plot(serious_by_year['event_year'], serious_by_year['accident_count'], color=\"orange\", marker='o', linestyle='-')\n",
    "minor = plt.plot(minor_by_year['event_year'], minor_by_year['accident_count'], color=\"blue\", marker='o', linestyle='-')\n",
    "uninjured = plt.plot(uninjured_by_year['event_year'], uninjured_by_year['accident_count'], color=\"purple\", marker='o', linestyle='-')\n",
    "\n",
    "\n",
    "plt.xlabel('Year')\n",
    "plt.ylabel('Number of Accidents')\n",
    "plt.title('Accidents by Injury Type in Past 30 Years')\n",
    "plt.legend([\"Fatal\", \"Serious\", \"Minor\", \"Uninjured\"], loc = \"upper right\")\n",
    "\n",
    "# Add grid lines\n",
    "plt.grid(True)\n",
    "plt.show()"
   ]
  },
  {
   "cell_type": "markdown",
   "metadata": {},
   "source": [
    "### Method 1: Weather Correlation for Top Manufacturers\n",
    "\n",
    "Assessment of correlation between accidents by top aircraft manufacturers and inclement weather conditions over time. Specific code was adapted from [ChatGPT](https://chat.openai.com/c/d7e3c644-5370-441a-9445-03febd42121c).\n",
    "\n",
    "Following our correlation assessment, we found this particular method revealed less relevant information than expected. Therefore, we adjusted our methods accordingly."
   ]
  },
  {
   "cell_type": "code",
   "execution_count": 50,
   "metadata": {},
   "outputs": [
    {
     "name": "stderr",
     "output_type": "stream",
     "text": [
      "<ipython-input-50-60f4b74f28af>:7: SettingWithCopyWarning: \n",
      "A value is trying to be set on a copy of a slice from a DataFrame.\n",
      "Try using .loc[row_indexer,col_indexer] = value instead\n",
      "\n",
      "See the caveats in the documentation: https://pandas.pydata.org/pandas-docs/stable/user_guide/indexing.html#returning-a-view-versus-a-copy\n",
      "  filtered_df[\"weather_condition_numeric\"] = filtered_df[\"weather_condition\"].map(weather_mapping)\n"
     ]
    }
   ],
   "source": [
    "# Define a mapping for the weather conditions\n",
    "\n",
    "# Assigning numeric labels to each condition\n",
    "weather_mapping = {\"IMC\": 0, \"VMC\": 1, \"UNK\": 2, None: 3}\n",
    "\n",
    "# Apply label encoding using the mapping\n",
    "filtered_df[\"weather_condition_numeric\"] = filtered_df[\"weather_condition\"].map(weather_mapping)\n"
   ]
  },
  {
   "cell_type": "code",
   "execution_count": 51,
   "metadata": {},
   "outputs": [
    {
     "name": "stderr",
     "output_type": "stream",
     "text": [
      "<ipython-input-51-e05d9a352ac6>:8: SettingWithCopyWarning: \n",
      "A value is trying to be set on a copy of a slice from a DataFrame.\n",
      "Try using .loc[row_indexer,col_indexer] = value instead\n",
      "\n",
      "See the caveats in the documentation: https://pandas.pydata.org/pandas-docs/stable/user_guide/indexing.html#returning-a-view-versus-a-copy\n",
      "  filtered_df[\"accident_count\"] = 1\n"
     ]
    },
    {
     "data": {
      "image/png": "[encoded data removed]",
      "text/plain": [
       "<Figure size 864x432 with 1 Axes>"
      ]
     },
     "metadata": {
      "needs_background": "light"
     },
     "output_type": "display_data"
    }
   ],
   "source": [
    "import seaborn as sns\n",
    "\n",
    "# Identify the top aircraft manufacturers\n",
    "top_manufacturers = filtered_df[\"make\"].value_counts().head(10).index\n",
    "\n",
    "# Calculate \"accident_count\" as the count of accidents for each manufacturer-year combination\n",
    "# Add a new column and set it to 1 for each accident\n",
    "filtered_df[\"accident_count\"] = 1\n",
    "accidents_count_by_manufacturer_year = filtered_df.groupby([\"make\", \"event_year\"])[\"accident_count\"].sum().unstack(fill_value=0)\n",
    "\n",
    "# Create a DataFrame to store correlation data\n",
    "correlation_data = []\n",
    "\n",
    "# Calculate the correlation for each manufacturer\n",
    "for manufacturer in top_manufacturers:\n",
    "    accidents_by_year = accidents_count_by_manufacturer_year.loc[manufacturer]\n",
    "\n",
    "    if \"weather_condition\" in filtered_df.columns:\n",
    "        # Filter data for the current manufacturer\n",
    "        manufacturer_data = filtered_df[filtered_df[\"make\"] == manufacturer]\n",
    "        \n",
    "        # Filter data for inclement weather\n",
    "        clear_weather = filtered_df[filtered_df[\"weather_condition\"] == \"IMC\"]\n",
    "        \n",
    "        # Calculate the correlation between \"accidents_by_year\" and \"weather_condition\"\n",
    "        correlation = accidents_by_year.corr(manufacturer_data.groupby(\"event_year\")[\"weather_condition_numeric\"].first())\n",
    "        \n",
    "        correlation_data.append({'Manufacturer': manufacturer, 'Correlation': correlation})\n",
    "\n",
    "correlation_df = pd.DataFrame(correlation_data)\n",
    "\n",
    "# Create a plot to display the correlations over time\n",
    "plt.figure(figsize=(12, 6))\n",
    "sns.set(style=\"whitegrid\")\n",
    "sns.lineplot(data=correlation_df, x='Manufacturer', y='Correlation', marker='o')\n",
    "plt.title(\"Correlation Between Accidents and Clear Weather Conditions\")\n",
    "plt.xlabel(\"Manufacturer\")\n",
    "plt.ylabel(\"Correlation\")\n",
    "\n",
    "plt.xticks(rotation=45)\n",
    "plt.tight_layout()\n",
    "plt.show()"
   ]
  },
  {
   "cell_type": "markdown",
   "metadata": {},
   "source": [
    "### Method 2: Weather Correlation for Top Manufacturers\n",
    "\n",
    "The second method for assessing correlation between accidents by top manufacturers and weather revealed more useful comparison information about accident rates in clear versus inclement weather."
   ]
  },
  {
   "cell_type": "code",
   "execution_count": 52,
   "metadata": {},
   "outputs": [
    {
     "data": {
      "text/plain": [
       "make        weather_condition\n",
       "airbus      IMC                     7\n",
       "            UNK                     9\n",
       "            VMC                    38\n",
       "beechcraft  IMC                     6\n",
       "            VMC                    41\n",
       "boeing      IMC                    62\n",
       "            UNK                    58\n",
       "            VMC                   503\n",
       "bombardier  IMC                     1\n",
       "            VMC                     9\n",
       "cessna      IMC                   860\n",
       "            UNK                   127\n",
       "            VMC                  9946\n",
       "diamond     IMC                     4\n",
       "            VMC                    70\n",
       "embraer     IMC                     5\n",
       "            UNK                     4\n",
       "            VMC                    29\n",
       "gulfstream  IMC                     8\n",
       "            UNK                     3\n",
       "            VMC                    50\n",
       "mitsubishi  IMC                    16\n",
       "            UNK                     1\n",
       "            VMC                    37\n",
       "piper       IMC                   664\n",
       "            UNK                    51\n",
       "            VMC                  6052\n",
       "dtype: int64"
      ]
     },
     "execution_count": 52,
     "metadata": {},
     "output_type": "execute_result"
    }
   ],
   "source": [
    "# Filter the df to group by top manufacturers and weather condition\n",
    "\n",
    "filtered_df.groupby(['make', 'weather_condition']).size()\n"
   ]
  },
  {
   "cell_type": "code",
   "execution_count": 53,
   "metadata": {},
   "outputs": [
    {
     "data": {
      "text/html": [
       "<div>\n",
       "<style scoped>\n",
       "    .dataframe tbody tr th:only-of-type {\n",
       "        vertical-align: middle;\n",
       "    }\n",
       "\n",
       "    .dataframe tbody tr th {\n",
       "        vertical-align: top;\n",
       "    }\n",
       "\n",
       "    .dataframe thead th {\n",
       "        text-align: right;\n",
       "    }\n",
       "</style>\n",
       "<table border=\"1\" class=\"dataframe\">\n",
       "  <thead>\n",
       "    <tr style=\"text-align: right;\">\n",
       "      <th>make</th>\n",
       "      <th>airbus</th>\n",
       "      <th>beechcraft</th>\n",
       "      <th>boeing</th>\n",
       "      <th>bombardier</th>\n",
       "      <th>cessna</th>\n",
       "      <th>diamond</th>\n",
       "      <th>embraer</th>\n",
       "      <th>gulfstream</th>\n",
       "      <th>mitsubishi</th>\n",
       "      <th>piper</th>\n",
       "    </tr>\n",
       "    <tr>\n",
       "      <th>weather_condition</th>\n",
       "      <th></th>\n",
       "      <th></th>\n",
       "      <th></th>\n",
       "      <th></th>\n",
       "      <th></th>\n",
       "      <th></th>\n",
       "      <th></th>\n",
       "      <th></th>\n",
       "      <th></th>\n",
       "      <th></th>\n",
       "    </tr>\n",
       "  </thead>\n",
       "  <tbody>\n",
       "    <tr>\n",
       "      <th>IMC</th>\n",
       "      <td>0.129630</td>\n",
       "      <td>0.12766</td>\n",
       "      <td>0.099518</td>\n",
       "      <td>0.1</td>\n",
       "      <td>0.078661</td>\n",
       "      <td>0.054054</td>\n",
       "      <td>0.131579</td>\n",
       "      <td>0.131148</td>\n",
       "      <td>0.296296</td>\n",
       "      <td>0.098123</td>\n",
       "    </tr>\n",
       "    <tr>\n",
       "      <th>UNK</th>\n",
       "      <td>0.166667</td>\n",
       "      <td>0.00000</td>\n",
       "      <td>0.093098</td>\n",
       "      <td>0.0</td>\n",
       "      <td>0.011616</td>\n",
       "      <td>0.000000</td>\n",
       "      <td>0.105263</td>\n",
       "      <td>0.049180</td>\n",
       "      <td>0.018519</td>\n",
       "      <td>0.007537</td>\n",
       "    </tr>\n",
       "    <tr>\n",
       "      <th>VMC</th>\n",
       "      <td>0.703704</td>\n",
       "      <td>0.87234</td>\n",
       "      <td>0.807384</td>\n",
       "      <td>0.9</td>\n",
       "      <td>0.909723</td>\n",
       "      <td>0.945946</td>\n",
       "      <td>0.763158</td>\n",
       "      <td>0.819672</td>\n",
       "      <td>0.685185</td>\n",
       "      <td>0.894340</td>\n",
       "    </tr>\n",
       "  </tbody>\n",
       "</table>\n",
       "</div>"
      ],
      "text/plain": [
       "make                 airbus  beechcraft    boeing  bombardier    cessna  \\\n",
       "weather_condition                                                         \n",
       "IMC                0.129630     0.12766  0.099518         0.1  0.078661   \n",
       "UNK                0.166667     0.00000  0.093098         0.0  0.011616   \n",
       "VMC                0.703704     0.87234  0.807384         0.9  0.909723   \n",
       "\n",
       "make                diamond   embraer  gulfstream  mitsubishi     piper  \n",
       "weather_condition                                                        \n",
       "IMC                0.054054  0.131579    0.131148    0.296296  0.098123  \n",
       "UNK                0.000000  0.105263    0.049180    0.018519  0.007537  \n",
       "VMC                0.945946  0.763158    0.819672    0.685185  0.894340  "
      ]
     },
     "execution_count": 53,
     "metadata": {},
     "output_type": "execute_result"
    }
   ],
   "source": [
    "# Create a feature for weather type by company and show percentages\n",
    "weather_type_by_company = pd.crosstab(filtered_df['weather_condition'], filtered_df['make'], normalize = 'columns')\n",
    "weather_type_by_company"
   ]
  },
  {
   "cell_type": "code",
   "execution_count": 56,
   "metadata": {},
   "outputs": [
    {
     "data": {
      "text/plain": [
       "cessna        11173\n",
       "piper          6899\n",
       "boeing          633\n",
       "diamond          76\n",
       "gulfstream       69\n",
       "airbus           56\n",
       "mitsubishi       55\n",
       "beechcraft       48\n",
       "embraer          44\n",
       "bombardier       13\n",
       "Name: make, dtype: int64"
      ]
     },
     "execution_count": 56,
     "metadata": {},
     "output_type": "execute_result"
    }
   ],
   "source": [
    "# Sanity check\n",
    "filtered_df[\"make\"].value_counts()"
   ]
  },
  {
   "cell_type": "code",
   "execution_count": 57,
   "metadata": {},
   "outputs": [
    {
     "data": {
      "image/png": "[encoded data removed]",
      "text/plain": [
       "<Figure size 864x576 with 1 Axes>"
      ]
     },
     "metadata": {},
     "output_type": "display_data"
    }
   ],
   "source": [
    "import matplotlib.ticker as mtick\n",
    "\n",
    "# Set figure size\n",
    "weather_type_by_company_fig, weather_type_by_company_ax = plt.subplots(figsize=(12, 8))\n",
    "\n",
    "#Create plot\n",
    "weather_type_by_company_ax.set_title('Accidents by Weather Type')\n",
    "weather_type_by_company_ax.set_ylabel('Percent of Accidents by Weather')\n",
    "weather_type_by_company_ax.set_xlabel('Top Manufacturers')\n",
    "\n",
    "# Create conditions for top manufacturers and percentages per weather condition\n",
    "make_type = weather_type_by_company.columns\n",
    "imc = weather_type_by_company.loc['IMC']*100\n",
    "vmc = weather_type_by_company.loc['VMC']*100\n",
    "\n",
    "imc_bar_plt = weather_type_by_company_ax.bar(make_type, imc )\n",
    "vmc_bar_plt = weather_type_by_company_ax.bar(make_type, vmc, bottom = imc )\n",
    "\n",
    "# Format plot\n",
    "weather_type_by_company_ax.legend([imc_bar_plt, vmc_bar_plt], ['IMC', 'VMC'], loc = 'upper left')\n",
    "weather_type_by_company_ax.yaxis.set_major_formatter(mtick.PercentFormatter())\n",
    "\n",
    "\n",
    "plt.show()"
   ]
  },
  {
   "cell_type": "markdown",
   "metadata": {},
   "source": [
    "## Conclusions\n",
    "\n",
    "This analysis leads to three recommendations for HDK & Co. to improve the decision-making process of the lowest risk aircrafts for their new aviation division.\n",
    "\n",
    "- **Choose a professionally built aircraft from one of our top manufacturers.** Professionally built aircraft safety is improving at a much higher rate than amateur built aircrafts. Additionally, the injury severity for professional built aircrafts is lower than amateur builds. Although amateur builds may be less expensive, it is not the safest option.\n",
    "\n",
    "- **Bombardier is the best manufacturer option.**\n",
    "Bombardier had zero accidents with fatalities in inclement weather over the last 30 years.\n",
    "\n",
    "- **Diamond and Cessna are great alternative manufacturer options.**\n",
    "Diamond had the lowest percentage of its accidents that occurred during poor weather conditions. Cessna also had a low percentage of accidents in bad weather along with far more data supporting that result.\n",
    "\n"
   ]
  },
  {
   "cell_type": "markdown",
   "metadata": {},
   "source": [
    "## Next Steps\n",
    "\n",
    "Further analysis is required to improve risk assessment and further insights: \n",
    "\n",
    "- Expand analysis with total number of flights and passengers data\n",
    "- Analyze location data to identify favorable air routes\n",
    "- Study economic data including cost from manufacturers\n",
    "- Implement FRAT (Flight risk assessment tool) for pilots "
   ]
  }
 ],
 "metadata": {
  "kernelspec": {
   "display_name": "learn-env",
   "language": "python",
   "name": "python3"
  },
  "language_info": {
   "codemirror_mode": {
    "name": "ipython",
    "version": 3
   },
   "file_extension": ".py",
   "mimetype": "text/x-python",
   "name": "python",
   "nbconvert_exporter": "python",
   "pygments_lexer": "ipython3",
   "version": "3.8.5"
  }
 },
 "nbformat": 4,
 "nbformat_minor": 4
}
