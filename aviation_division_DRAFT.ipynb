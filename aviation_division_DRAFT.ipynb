{
 "cells": [
  {
   "cell_type": "code",
   "execution_count": 78,
   "metadata": {},
   "outputs": [],
   "source": [
    "import pandas as pd\n",
    "import matplotlib.pyplot as plt\n",
    "import numpy as np \n"
   ]
  },
  {
   "cell_type": "code",
   "execution_count": 79,
   "metadata": {},
   "outputs": [
    {
     "name": "stderr",
     "output_type": "stream",
     "text": [
      "/Users/kariprimiano/anaconda3/envs/learn-env/lib/python3.8/site-packages/IPython/core/interactiveshell.py:3145: DtypeWarning: Columns (6,7,28) have mixed types.Specify dtype option on import or set low_memory=False.\n",
      "  has_raised = await self.run_ast_nodes(code_ast.body, cell_name,\n"
     ]
    },
    {
     "name": "stdout",
     "output_type": "stream",
     "text": [
      "<class 'pandas.core.frame.DataFrame'>\n",
      "RangeIndex: 88889 entries, 0 to 88888\n",
      "Data columns (total 31 columns):\n",
      " #   Column                  Non-Null Count  Dtype  \n",
      "---  ------                  --------------  -----  \n",
      " 0   Event.Id                88889 non-null  object \n",
      " 1   Investigation.Type      88889 non-null  object \n",
      " 2   Accident.Number         88889 non-null  object \n",
      " 3   Event.Date              88889 non-null  object \n",
      " 4   Location                88837 non-null  object \n",
      " 5   Country                 88663 non-null  object \n",
      " 6   Latitude                34382 non-null  object \n",
      " 7   Longitude               34373 non-null  object \n",
      " 8   Airport.Code            50249 non-null  object \n",
      " 9   Airport.Name            52790 non-null  object \n",
      " 10  Injury.Severity         87889 non-null  object \n",
      " 11  Aircraft.damage         85695 non-null  object \n",
      " 12  Aircraft.Category       32287 non-null  object \n",
      " 13  Registration.Number     87572 non-null  object \n",
      " 14  Make                    88826 non-null  object \n",
      " 15  Model                   88797 non-null  object \n",
      " 16  Amateur.Built           88787 non-null  object \n",
      " 17  Number.of.Engines       82805 non-null  float64\n",
      " 18  Engine.Type             81812 non-null  object \n",
      " 19  FAR.Description         32023 non-null  object \n",
      " 20  Schedule                12582 non-null  object \n",
      " 21  Purpose.of.flight       82697 non-null  object \n",
      " 22  Air.carrier             16648 non-null  object \n",
      " 23  Total.Fatal.Injuries    77488 non-null  float64\n",
      " 24  Total.Serious.Injuries  76379 non-null  float64\n",
      " 25  Total.Minor.Injuries    76956 non-null  float64\n",
      " 26  Total.Uninjured         82977 non-null  float64\n",
      " 27  Weather.Condition       84397 non-null  object \n",
      " 28  Broad.phase.of.flight   61724 non-null  object \n",
      " 29  Report.Status           82508 non-null  object \n",
      " 30  Publication.Date        75118 non-null  object \n",
      "dtypes: float64(5), object(26)\n",
      "memory usage: 21.0+ MB\n"
     ]
    }
   ],
   "source": [
    "\n",
    "#dtypes = {'column_name_6': 'int64', 'column_name_7': 'float64', 'column_name_28': 'float64'}\n",
    "aviation_df = pd.read_csv('AviationData.csv', encoding='ISO-8859-1', dtype={'column_name_6': 'int64', 'column_name_7': 'float64', 'column_name_28': 'float64'})\n",
    "aviation_df.info()"
   ]
  },
  {
   "cell_type": "code",
   "execution_count": 80,
   "metadata": {},
   "outputs": [
    {
     "data": {
      "text/html": [
       "<div>\n",
       "<style scoped>\n",
       "    .dataframe tbody tr th:only-of-type {\n",
       "        vertical-align: middle;\n",
       "    }\n",
       "\n",
       "    .dataframe tbody tr th {\n",
       "        vertical-align: top;\n",
       "    }\n",
       "\n",
       "    .dataframe thead th {\n",
       "        text-align: right;\n",
       "    }\n",
       "</style>\n",
       "<table border=\"1\" class=\"dataframe\">\n",
       "  <thead>\n",
       "    <tr style=\"text-align: right;\">\n",
       "      <th></th>\n",
       "      <th>Event.Id</th>\n",
       "      <th>Investigation.Type</th>\n",
       "      <th>Accident.Number</th>\n",
       "      <th>Event.Date</th>\n",
       "      <th>Location</th>\n",
       "      <th>Country</th>\n",
       "      <th>Latitude</th>\n",
       "      <th>Longitude</th>\n",
       "      <th>Airport.Code</th>\n",
       "      <th>Airport.Name</th>\n",
       "      <th>...</th>\n",
       "      <th>Purpose.of.flight</th>\n",
       "      <th>Air.carrier</th>\n",
       "      <th>Total.Fatal.Injuries</th>\n",
       "      <th>Total.Serious.Injuries</th>\n",
       "      <th>Total.Minor.Injuries</th>\n",
       "      <th>Total.Uninjured</th>\n",
       "      <th>Weather.Condition</th>\n",
       "      <th>Broad.phase.of.flight</th>\n",
       "      <th>Report.Status</th>\n",
       "      <th>Publication.Date</th>\n",
       "    </tr>\n",
       "  </thead>\n",
       "  <tbody>\n",
       "    <tr>\n",
       "      <th>0</th>\n",
       "      <td>20001218X45444</td>\n",
       "      <td>Accident</td>\n",
       "      <td>SEA87LA080</td>\n",
       "      <td>1948-10-24</td>\n",
       "      <td>MOOSE CREEK, ID</td>\n",
       "      <td>United States</td>\n",
       "      <td>NaN</td>\n",
       "      <td>NaN</td>\n",
       "      <td>NaN</td>\n",
       "      <td>NaN</td>\n",
       "      <td>...</td>\n",
       "      <td>Personal</td>\n",
       "      <td>NaN</td>\n",
       "      <td>2.0</td>\n",
       "      <td>0.0</td>\n",
       "      <td>0.0</td>\n",
       "      <td>0.0</td>\n",
       "      <td>UNK</td>\n",
       "      <td>Cruise</td>\n",
       "      <td>Probable Cause</td>\n",
       "      <td>NaN</td>\n",
       "    </tr>\n",
       "    <tr>\n",
       "      <th>1</th>\n",
       "      <td>20001218X45447</td>\n",
       "      <td>Accident</td>\n",
       "      <td>LAX94LA336</td>\n",
       "      <td>1962-07-19</td>\n",
       "      <td>BRIDGEPORT, CA</td>\n",
       "      <td>United States</td>\n",
       "      <td>NaN</td>\n",
       "      <td>NaN</td>\n",
       "      <td>NaN</td>\n",
       "      <td>NaN</td>\n",
       "      <td>...</td>\n",
       "      <td>Personal</td>\n",
       "      <td>NaN</td>\n",
       "      <td>4.0</td>\n",
       "      <td>0.0</td>\n",
       "      <td>0.0</td>\n",
       "      <td>0.0</td>\n",
       "      <td>UNK</td>\n",
       "      <td>Unknown</td>\n",
       "      <td>Probable Cause</td>\n",
       "      <td>19-09-1996</td>\n",
       "    </tr>\n",
       "    <tr>\n",
       "      <th>2</th>\n",
       "      <td>20061025X01555</td>\n",
       "      <td>Accident</td>\n",
       "      <td>NYC07LA005</td>\n",
       "      <td>1974-08-30</td>\n",
       "      <td>Saltville, VA</td>\n",
       "      <td>United States</td>\n",
       "      <td>36.9222</td>\n",
       "      <td>-81.8781</td>\n",
       "      <td>NaN</td>\n",
       "      <td>NaN</td>\n",
       "      <td>...</td>\n",
       "      <td>Personal</td>\n",
       "      <td>NaN</td>\n",
       "      <td>3.0</td>\n",
       "      <td>NaN</td>\n",
       "      <td>NaN</td>\n",
       "      <td>NaN</td>\n",
       "      <td>IMC</td>\n",
       "      <td>Cruise</td>\n",
       "      <td>Probable Cause</td>\n",
       "      <td>26-02-2007</td>\n",
       "    </tr>\n",
       "    <tr>\n",
       "      <th>3</th>\n",
       "      <td>20001218X45448</td>\n",
       "      <td>Accident</td>\n",
       "      <td>LAX96LA321</td>\n",
       "      <td>1977-06-19</td>\n",
       "      <td>EUREKA, CA</td>\n",
       "      <td>United States</td>\n",
       "      <td>NaN</td>\n",
       "      <td>NaN</td>\n",
       "      <td>NaN</td>\n",
       "      <td>NaN</td>\n",
       "      <td>...</td>\n",
       "      <td>Personal</td>\n",
       "      <td>NaN</td>\n",
       "      <td>2.0</td>\n",
       "      <td>0.0</td>\n",
       "      <td>0.0</td>\n",
       "      <td>0.0</td>\n",
       "      <td>IMC</td>\n",
       "      <td>Cruise</td>\n",
       "      <td>Probable Cause</td>\n",
       "      <td>12-09-2000</td>\n",
       "    </tr>\n",
       "    <tr>\n",
       "      <th>4</th>\n",
       "      <td>20041105X01764</td>\n",
       "      <td>Accident</td>\n",
       "      <td>CHI79FA064</td>\n",
       "      <td>1979-08-02</td>\n",
       "      <td>Canton, OH</td>\n",
       "      <td>United States</td>\n",
       "      <td>NaN</td>\n",
       "      <td>NaN</td>\n",
       "      <td>NaN</td>\n",
       "      <td>NaN</td>\n",
       "      <td>...</td>\n",
       "      <td>Personal</td>\n",
       "      <td>NaN</td>\n",
       "      <td>1.0</td>\n",
       "      <td>2.0</td>\n",
       "      <td>NaN</td>\n",
       "      <td>0.0</td>\n",
       "      <td>VMC</td>\n",
       "      <td>Approach</td>\n",
       "      <td>Probable Cause</td>\n",
       "      <td>16-04-1980</td>\n",
       "    </tr>\n",
       "  </tbody>\n",
       "</table>\n",
       "<p>5 rows × 31 columns</p>\n",
       "</div>"
      ],
      "text/plain": [
       "         Event.Id Investigation.Type Accident.Number  Event.Date  \\\n",
       "0  20001218X45444           Accident      SEA87LA080  1948-10-24   \n",
       "1  20001218X45447           Accident      LAX94LA336  1962-07-19   \n",
       "2  20061025X01555           Accident      NYC07LA005  1974-08-30   \n",
       "3  20001218X45448           Accident      LAX96LA321  1977-06-19   \n",
       "4  20041105X01764           Accident      CHI79FA064  1979-08-02   \n",
       "\n",
       "          Location        Country Latitude Longitude Airport.Code  \\\n",
       "0  MOOSE CREEK, ID  United States      NaN       NaN          NaN   \n",
       "1   BRIDGEPORT, CA  United States      NaN       NaN          NaN   \n",
       "2    Saltville, VA  United States  36.9222  -81.8781          NaN   \n",
       "3       EUREKA, CA  United States      NaN       NaN          NaN   \n",
       "4       Canton, OH  United States      NaN       NaN          NaN   \n",
       "\n",
       "  Airport.Name  ... Purpose.of.flight Air.carrier Total.Fatal.Injuries  \\\n",
       "0          NaN  ...          Personal         NaN                  2.0   \n",
       "1          NaN  ...          Personal         NaN                  4.0   \n",
       "2          NaN  ...          Personal         NaN                  3.0   \n",
       "3          NaN  ...          Personal         NaN                  2.0   \n",
       "4          NaN  ...          Personal         NaN                  1.0   \n",
       "\n",
       "  Total.Serious.Injuries Total.Minor.Injuries Total.Uninjured  \\\n",
       "0                    0.0                  0.0             0.0   \n",
       "1                    0.0                  0.0             0.0   \n",
       "2                    NaN                  NaN             NaN   \n",
       "3                    0.0                  0.0             0.0   \n",
       "4                    2.0                  NaN             0.0   \n",
       "\n",
       "  Weather.Condition  Broad.phase.of.flight   Report.Status Publication.Date  \n",
       "0               UNK                 Cruise  Probable Cause              NaN  \n",
       "1               UNK                Unknown  Probable Cause       19-09-1996  \n",
       "2               IMC                 Cruise  Probable Cause       26-02-2007  \n",
       "3               IMC                 Cruise  Probable Cause       12-09-2000  \n",
       "4               VMC               Approach  Probable Cause       16-04-1980  \n",
       "\n",
       "[5 rows x 31 columns]"
      ]
     },
     "execution_count": 80,
     "metadata": {},
     "output_type": "execute_result"
    }
   ],
   "source": [
    "aviation_df.head()"
   ]
  },
  {
   "cell_type": "code",
   "execution_count": 81,
   "metadata": {},
   "outputs": [
    {
     "name": "stderr",
     "output_type": "stream",
     "text": [
      "<ipython-input-81-bf06c9160983>:6: FutureWarning: Treating datetime data as categorical rather than numeric in `.describe` is deprecated and will be removed in a future version of pandas. Specify `datetime_is_numeric=True` to silence this warning and adopt the future behavior now.\n",
      "  aviation_df[\"Incident.Date\"].describe()\n"
     ]
    },
    {
     "data": {
      "text/plain": [
       "count                   88889\n",
       "unique                  14782\n",
       "top       1982-05-16 00:00:00\n",
       "freq                       25\n",
       "first     1948-10-24 00:00:00\n",
       "last      2022-12-29 00:00:00\n",
       "Name: Incident.Date, dtype: object"
      ]
     },
     "execution_count": 81,
     "metadata": {},
     "output_type": "execute_result"
    }
   ],
   "source": [
    "#Formatting data\n",
    "\n",
    "# Potentially format column headers\n",
    "\n",
    "aviation_df[\"Incident.Date\"] = pd.to_datetime(aviation_df[\"Event.Date\"])\n",
    "aviation_df[\"Incident.Date\"].describe()"
   ]
  },
  {
   "cell_type": "code",
   "execution_count": 82,
   "metadata": {},
   "outputs": [],
   "source": [
    "aviation_df[\"Make\"] = aviation_df[\"Make\"].str.lower()"
   ]
  },
  {
   "cell_type": "code",
   "execution_count": 83,
   "metadata": {},
   "outputs": [],
   "source": [
    "aviation_df.columns = aviation_df.columns.str.lower().str.replace('.', '_')"
   ]
  },
  {
   "cell_type": "code",
   "execution_count": 84,
   "metadata": {},
   "outputs": [],
   "source": [
    "# Drop unnecessary columns\n",
    "aviation_df.drop(columns = [\"location\", \"registration_number\", \"accident_number\", \"latitude\", \"longitude\", \"airport_code\", \"airport_name\", \"far_description\", \"schedule\", \"air_carrier\", \"report_status\", \"publication_date\"], inplace=True)\n"
   ]
  },
  {
   "cell_type": "code",
   "execution_count": 85,
   "metadata": {},
   "outputs": [
    {
     "data": {
      "text/html": [
       "<div>\n",
       "<style scoped>\n",
       "    .dataframe tbody tr th:only-of-type {\n",
       "        vertical-align: middle;\n",
       "    }\n",
       "\n",
       "    .dataframe tbody tr th {\n",
       "        vertical-align: top;\n",
       "    }\n",
       "\n",
       "    .dataframe thead th {\n",
       "        text-align: right;\n",
       "    }\n",
       "</style>\n",
       "<table border=\"1\" class=\"dataframe\">\n",
       "  <thead>\n",
       "    <tr style=\"text-align: right;\">\n",
       "      <th></th>\n",
       "      <th>event_id</th>\n",
       "      <th>investigation_type</th>\n",
       "      <th>event_date</th>\n",
       "      <th>country</th>\n",
       "      <th>injury_severity</th>\n",
       "      <th>aircraft_damage</th>\n",
       "      <th>aircraft_category</th>\n",
       "      <th>make</th>\n",
       "      <th>model</th>\n",
       "      <th>amateur_built</th>\n",
       "      <th>...</th>\n",
       "      <th>engine_type</th>\n",
       "      <th>purpose_of_flight</th>\n",
       "      <th>total_fatal_injuries</th>\n",
       "      <th>total_serious_injuries</th>\n",
       "      <th>total_minor_injuries</th>\n",
       "      <th>total_uninjured</th>\n",
       "      <th>weather_condition</th>\n",
       "      <th>broad_phase_of_flight</th>\n",
       "      <th>incident_date</th>\n",
       "      <th>event_year</th>\n",
       "    </tr>\n",
       "  </thead>\n",
       "  <tbody>\n",
       "    <tr>\n",
       "      <th>0</th>\n",
       "      <td>20001218X45444</td>\n",
       "      <td>Accident</td>\n",
       "      <td>1948-10-24</td>\n",
       "      <td>United States</td>\n",
       "      <td>Fatal(2)</td>\n",
       "      <td>Destroyed</td>\n",
       "      <td>NaN</td>\n",
       "      <td>stinson</td>\n",
       "      <td>108-3</td>\n",
       "      <td>No</td>\n",
       "      <td>...</td>\n",
       "      <td>Reciprocating</td>\n",
       "      <td>Personal</td>\n",
       "      <td>2.0</td>\n",
       "      <td>0.0</td>\n",
       "      <td>0.0</td>\n",
       "      <td>0.0</td>\n",
       "      <td>UNK</td>\n",
       "      <td>Cruise</td>\n",
       "      <td>1948-10-24</td>\n",
       "      <td>1948</td>\n",
       "    </tr>\n",
       "    <tr>\n",
       "      <th>1</th>\n",
       "      <td>20001218X45447</td>\n",
       "      <td>Accident</td>\n",
       "      <td>1962-07-19</td>\n",
       "      <td>United States</td>\n",
       "      <td>Fatal(4)</td>\n",
       "      <td>Destroyed</td>\n",
       "      <td>NaN</td>\n",
       "      <td>piper</td>\n",
       "      <td>PA24-180</td>\n",
       "      <td>No</td>\n",
       "      <td>...</td>\n",
       "      <td>Reciprocating</td>\n",
       "      <td>Personal</td>\n",
       "      <td>4.0</td>\n",
       "      <td>0.0</td>\n",
       "      <td>0.0</td>\n",
       "      <td>0.0</td>\n",
       "      <td>UNK</td>\n",
       "      <td>Unknown</td>\n",
       "      <td>1962-07-19</td>\n",
       "      <td>1962</td>\n",
       "    </tr>\n",
       "    <tr>\n",
       "      <th>2</th>\n",
       "      <td>20061025X01555</td>\n",
       "      <td>Accident</td>\n",
       "      <td>1974-08-30</td>\n",
       "      <td>United States</td>\n",
       "      <td>Fatal(3)</td>\n",
       "      <td>Destroyed</td>\n",
       "      <td>NaN</td>\n",
       "      <td>cessna</td>\n",
       "      <td>172M</td>\n",
       "      <td>No</td>\n",
       "      <td>...</td>\n",
       "      <td>Reciprocating</td>\n",
       "      <td>Personal</td>\n",
       "      <td>3.0</td>\n",
       "      <td>NaN</td>\n",
       "      <td>NaN</td>\n",
       "      <td>NaN</td>\n",
       "      <td>IMC</td>\n",
       "      <td>Cruise</td>\n",
       "      <td>1974-08-30</td>\n",
       "      <td>1974</td>\n",
       "    </tr>\n",
       "    <tr>\n",
       "      <th>3</th>\n",
       "      <td>20001218X45448</td>\n",
       "      <td>Accident</td>\n",
       "      <td>1977-06-19</td>\n",
       "      <td>United States</td>\n",
       "      <td>Fatal(2)</td>\n",
       "      <td>Destroyed</td>\n",
       "      <td>NaN</td>\n",
       "      <td>rockwell</td>\n",
       "      <td>112</td>\n",
       "      <td>No</td>\n",
       "      <td>...</td>\n",
       "      <td>Reciprocating</td>\n",
       "      <td>Personal</td>\n",
       "      <td>2.0</td>\n",
       "      <td>0.0</td>\n",
       "      <td>0.0</td>\n",
       "      <td>0.0</td>\n",
       "      <td>IMC</td>\n",
       "      <td>Cruise</td>\n",
       "      <td>1977-06-19</td>\n",
       "      <td>1977</td>\n",
       "    </tr>\n",
       "    <tr>\n",
       "      <th>4</th>\n",
       "      <td>20041105X01764</td>\n",
       "      <td>Accident</td>\n",
       "      <td>1979-08-02</td>\n",
       "      <td>United States</td>\n",
       "      <td>Fatal(1)</td>\n",
       "      <td>Destroyed</td>\n",
       "      <td>NaN</td>\n",
       "      <td>cessna</td>\n",
       "      <td>501</td>\n",
       "      <td>No</td>\n",
       "      <td>...</td>\n",
       "      <td>NaN</td>\n",
       "      <td>Personal</td>\n",
       "      <td>1.0</td>\n",
       "      <td>2.0</td>\n",
       "      <td>NaN</td>\n",
       "      <td>0.0</td>\n",
       "      <td>VMC</td>\n",
       "      <td>Approach</td>\n",
       "      <td>1979-08-02</td>\n",
       "      <td>1979</td>\n",
       "    </tr>\n",
       "  </tbody>\n",
       "</table>\n",
       "<p>5 rows × 21 columns</p>\n",
       "</div>"
      ],
      "text/plain": [
       "         event_id investigation_type  event_date        country  \\\n",
       "0  20001218X45444           Accident  1948-10-24  United States   \n",
       "1  20001218X45447           Accident  1962-07-19  United States   \n",
       "2  20061025X01555           Accident  1974-08-30  United States   \n",
       "3  20001218X45448           Accident  1977-06-19  United States   \n",
       "4  20041105X01764           Accident  1979-08-02  United States   \n",
       "\n",
       "  injury_severity aircraft_damage aircraft_category      make     model  \\\n",
       "0        Fatal(2)       Destroyed               NaN   stinson     108-3   \n",
       "1        Fatal(4)       Destroyed               NaN     piper  PA24-180   \n",
       "2        Fatal(3)       Destroyed               NaN    cessna      172M   \n",
       "3        Fatal(2)       Destroyed               NaN  rockwell       112   \n",
       "4        Fatal(1)       Destroyed               NaN    cessna       501   \n",
       "\n",
       "  amateur_built  ...    engine_type purpose_of_flight total_fatal_injuries  \\\n",
       "0            No  ...  Reciprocating          Personal                  2.0   \n",
       "1            No  ...  Reciprocating          Personal                  4.0   \n",
       "2            No  ...  Reciprocating          Personal                  3.0   \n",
       "3            No  ...  Reciprocating          Personal                  2.0   \n",
       "4            No  ...            NaN          Personal                  1.0   \n",
       "\n",
       "   total_serious_injuries  total_minor_injuries  total_uninjured  \\\n",
       "0                     0.0                   0.0              0.0   \n",
       "1                     0.0                   0.0              0.0   \n",
       "2                     NaN                   NaN              NaN   \n",
       "3                     0.0                   0.0              0.0   \n",
       "4                     2.0                   NaN              0.0   \n",
       "\n",
       "   weather_condition broad_phase_of_flight incident_date event_year  \n",
       "0                UNK                Cruise    1948-10-24       1948  \n",
       "1                UNK               Unknown    1962-07-19       1962  \n",
       "2                IMC                Cruise    1974-08-30       1974  \n",
       "3                IMC                Cruise    1977-06-19       1977  \n",
       "4                VMC              Approach    1979-08-02       1979  \n",
       "\n",
       "[5 rows x 21 columns]"
      ]
     },
     "execution_count": 85,
     "metadata": {},
     "output_type": "execute_result"
    }
   ],
   "source": [
    "#create column with the year of each event\n",
    "aviation_df['event_year'] = [int(year[:4]) for year in aviation_df['event_date']]\n",
    "aviation_df.head()"
   ]
  },
  {
   "cell_type": "code",
   "execution_count": 86,
   "metadata": {},
   "outputs": [
    {
     "data": {
      "text/plain": [
       "Personal                     49448\n",
       "Instructional                10601\n",
       "Unknown                       6802\n",
       "Aerial Application            4712\n",
       "Business                      4018\n",
       "Positioning                   1646\n",
       "Other Work Use                1264\n",
       "Ferry                          812\n",
       "Aerial Observation             794\n",
       "Public Aircraft                720\n",
       "Executive/corporate            553\n",
       "Flight Test                    405\n",
       "Skydiving                      182\n",
       "External Load                  123\n",
       "Public Aircraft - Federal      105\n",
       "Banner Tow                     101\n",
       "Air Race show                   99\n",
       "Public Aircraft - Local         74\n",
       "Public Aircraft - State         64\n",
       "Air Race/show                   59\n",
       "Glider Tow                      53\n",
       "Firefighting                    40\n",
       "Air Drop                        11\n",
       "ASHO                             6\n",
       "PUBS                             4\n",
       "PUBL                             1\n",
       "Name: purpose_of_flight, dtype: int64"
      ]
     },
     "execution_count": 86,
     "metadata": {},
     "output_type": "execute_result"
    }
   ],
   "source": [
    "aviation_df[\"purpose_of_flight\"].value_counts()"
   ]
  },
  {
   "cell_type": "code",
   "execution_count": 87,
   "metadata": {},
   "outputs": [],
   "source": [
    "\n",
    "#purpose_of_flight_filtered = [\"Personal\", \"Business\", \"Executive/corporate\", \"Public Aircraft\", \"Other Work Use\", \"Unknown\", ]\n",
    "# df['Relevant.Year'] = np.where(df['Event.Year'] >= y, True, False)"
   ]
  },
  {
   "cell_type": "code",
   "execution_count": 88,
   "metadata": {},
   "outputs": [
    {
     "name": "stdout",
     "output_type": "stream",
     "text": [
      "<class 'pandas.core.frame.DataFrame'>\n",
      "Int64Index: 19053 entries, 29671 to 88888\n",
      "Data columns (total 21 columns):\n",
      " #   Column                  Non-Null Count  Dtype         \n",
      "---  ------                  --------------  -----         \n",
      " 0   event_id                19053 non-null  object        \n",
      " 1   investigation_type      19053 non-null  object        \n",
      " 2   event_date              19053 non-null  object        \n",
      " 3   country                 19037 non-null  object        \n",
      " 4   injury_severity         19026 non-null  object        \n",
      " 5   aircraft_damage         18742 non-null  object        \n",
      " 6   aircraft_category       7703 non-null   object        \n",
      " 7   make                    19053 non-null  object        \n",
      " 8   model                   19049 non-null  object        \n",
      " 9   amateur_built           19053 non-null  object        \n",
      " 10  number_of_engines       18313 non-null  float64       \n",
      " 11  engine_type             18067 non-null  object        \n",
      " 12  purpose_of_flight       19053 non-null  object        \n",
      " 13  total_fatal_injuries    15519 non-null  float64       \n",
      " 14  total_serious_injuries  15065 non-null  float64       \n",
      " 15  total_minor_injuries    15321 non-null  float64       \n",
      " 16  total_uninjured         17352 non-null  float64       \n",
      " 17  weather_condition       18651 non-null  object        \n",
      " 18  broad_phase_of_flight   12041 non-null  object        \n",
      " 19  incident_date           19053 non-null  datetime64[ns]\n",
      " 20  event_year              19053 non-null  int64         \n",
      "dtypes: datetime64[ns](1), float64(5), int64(1), object(14)\n",
      "memory usage: 3.2+ MB\n"
     ]
    },
    {
     "data": {
      "text/plain": [
       "cessna                            11144\n",
       "piper                              6855\n",
       "boeing                              583\n",
       "mitsubishi                           55\n",
       "airbus industrie                     43\n",
       "boeing stearman                      43\n",
       "embraer                              41\n",
       "diamond aircraft ind inc             29\n",
       "diamond aircraft industries          24\n",
       "gulfstream aerospace                 21\n",
       "beechcraft                           20\n",
       "piper aircraft inc                   18\n",
       "gulfstream american                  18\n",
       "gulfstream                           18\n",
       "diamond                              15\n",
       "cessna aircraft co                   14\n",
       "hawker beechcraft corp               11\n",
       "hawker beechcraft                     9\n",
       "piper/cub crafters                    7\n",
       "gulfstream american corp              7\n",
       "airbus helicopters                    5\n",
       "cessna aircraft                       5\n",
       "airbus                                5\n",
       "new piper aircraft inc                5\n",
       "diamond aircraft                      4\n",
       "diamond aircraft ind gmbh             3\n",
       "piper aircraft corporation            3\n",
       "gulfstream american corp.             3\n",
       "cessna ector                          3\n",
       "piper aircraft                        3\n",
       "hawker beechcraft corporation         3\n",
       "boeing helicopters div.               2\n",
       "boeing - canada (de havilland)        2\n",
       "piper aerostar                        2\n",
       "airbus helicopters inc                2\n",
       "gulfstream am corp comm div           2\n",
       "embraer s a                           2\n",
       "hawker-beechcraft                     2\n",
       "cessna/air repair inc                 2\n",
       "reims-cessna                          1\n",
       "new piper                             1\n",
       "boeing-brown                          1\n",
       "hawker beechcraft corp.               1\n",
       "piper / laudeman                      1\n",
       "boeing (stearman)                     1\n",
       "embraer executive aircraft inc        1\n",
       "piper cub crafters                    1\n",
       "cessna/weaver                         1\n",
       "piper/stevens                         1\n",
       "boeing vertol                         1\n",
       "hawker-beechcraft corporation         1\n",
       "cessna wren                           1\n",
       "diamond aicraft industries inc        1\n",
       "airbus/eurocopter                     1\n",
       "new piper aircraft, inc.              1\n",
       "cessna reems                          1\n",
       "cessna aircraft co.                   1\n",
       "beechcraft corporation                1\n",
       "jetprop dlx piper                     1\n",
       "Name: make, dtype: int64"
      ]
     },
     "execution_count": 88,
     "metadata": {},
     "output_type": "execute_result"
    }
   ],
   "source": [
    "# Filter dates, amateur built, and purpose of flight\n",
    "\n",
    "# Create new df of filtered data\n",
    "\n",
    "selected_purposes = [\"Personal\", \"Business\", \"Executive/corporate\", \"Public Aircraft\", \"Other Work Use\", \"Unknown\"]\n",
    "\n",
    "filtered_df = aviation_df[(aviation_df[\"event_year\"] >= 1992) & \n",
    "                          (aviation_df[\"purpose_of_flight\"].isin(selected_purposes)) & \n",
    "                          (aviation_df[\"amateur_built\"] == \"No\") & \n",
    "                          ((aviation_df['make'].str.contains('airbus')) | \n",
    "                           (aviation_df['make'].str.contains('boeing')) | \n",
    "                           (aviation_df['make'].str.contains('cessna')) | \n",
    "                           (aviation_df['make'].str.contains('mitsubishi')) | \n",
    "                           (aviation_df['make'].str.contains('piper')) | \n",
    "                           (aviation_df['make'].str.contains('beechcraft')) | \n",
    "                           (aviation_df['make'].str.contains('\"bombardier\"')) | \n",
    "                           (aviation_df['make'].str.contains('embraer')) | \n",
    "                           (aviation_df['make'].str.contains('diamond')) | \n",
    "                           (aviation_df['make'].str.contains('gulfstream')))]\n",
    "filtered_df.info()\n",
    "filtered_df[\"make\"].value_counts()"
   ]
  },
  {
   "cell_type": "code",
   "execution_count": 89,
   "metadata": {},
   "outputs": [
    {
     "data": {
      "text/plain": [
       "{'airbus': 56,\n",
       " 'beechcraft': 2716,\n",
       " 'boeing': 633,\n",
       " 'bombardier': 13,\n",
       " 'cessna': 11173,\n",
       " 'diamond': 76,\n",
       " 'embraer': 44,\n",
       " 'gulfstream': 69,\n",
       " 'mitsubishi': 55,\n",
       " 'piper': 6899}"
      ]
     },
     "execution_count": 89,
     "metadata": {},
     "output_type": "execute_result"
    }
   ],
   "source": [
    "top_companies = [\"boeing\", \"airbus\", \"bombardier\", \"embraer\", \"cessna\", \"piper\", \n",
    "             \"diamond\", \"mitsubishi\", \"beechcraft\", \"gulfstream\"]\n",
    "\n",
    "counts = {}\n",
    "for company in company_list_strings:\n",
    "    if company in top_companies:\n",
    "        if company in counts:\n",
    "            counts[company] +=1\n",
    "        else:\n",
    "            counts[company] = 1\n",
    "            \n",
    "            \n",
    "counts"
   ]
  },
  {
   "cell_type": "code",
   "execution_count": 92,
   "metadata": {},
   "outputs": [
    {
     "name": "stdout",
     "output_type": "stream",
     "text": [
      "airbus           56\n",
      "beechcraft       48\n",
      "boeing          633\n",
      "cessna        11173\n",
      "diamond          76\n",
      "embraer          44\n",
      "gulfstream       69\n",
      "mitsubishi       55\n",
      "piper          6899\n",
      "Name: make, dtype: int64\n"
     ]
    }
   ],
   "source": [
    "top_companies = [\"boeing\", \"airbus\", \"bombardier\", \"embraer\", \"cessna\", \"piper\", \n",
    "             \"diamond\", \"mitsubishi\", \"beechcraft\", \"gulfstream\"]\n",
    "\n",
    "for company in top_companies:\n",
    "    mask = filtered_df['make'].str.contains(company, case=False, na=False)\n",
    "    filtered_df.loc[mask, 'make'] = company\n",
    "\n",
    "print(filtered_df[\"make\"].value_counts().sort_index()[:50])"
   ]
  },
  {
   "cell_type": "code",
   "execution_count": 95,
   "metadata": {},
   "outputs": [
    {
     "data": {
      "text/plain": [
       "22"
      ]
     },
     "execution_count": 95,
     "metadata": {},
     "output_type": "execute_result"
    }
   ],
   "source": [
    "((filtered_df['total_fatal_injuries'].isna()) \n",
    " & (filtered_df['total_serious_injuries'].isna()) \n",
    " & (filtered_df['total_minor_injuries'].isna()) \n",
    " & (filtered_df['total_uninjured'].isna())).sum()"
   ]
  },
  {
   "cell_type": "code",
   "execution_count": 97,
   "metadata": {},
   "outputs": [
    {
     "name": "stderr",
     "output_type": "stream",
     "text": [
      "<ipython-input-97-26878279e158>:1: SettingWithCopyWarning: \n",
      "A value is trying to be set on a copy of a slice from a DataFrame.\n",
      "Try using .loc[row_indexer,col_indexer] = value instead\n",
      "\n",
      "See the caveats in the documentation: https://pandas.pydata.org/pandas-docs/stable/user_guide/indexing.html#returning-a-view-versus-a-copy\n",
      "  filtered_df['injuries_reported'] = ((filtered_df['total_fatal_injuries'].notna())\n"
     ]
    },
    {
     "data": {
      "text/plain": [
       "True     19031\n",
       "False       22\n",
       "Name: injuries_reported, dtype: int64"
      ]
     },
     "execution_count": 97,
     "metadata": {},
     "output_type": "execute_result"
    }
   ],
   "source": [
    "filtered_df['injuries_reported'] = ((filtered_df['total_fatal_injuries'].notna()) \n",
    " | (filtered_df['total_serious_injuries'].notna()) \n",
    " | (filtered_df['total_minor_injuries'].notna()) \n",
    " | (filtered_df['total_uninjured'].notna()))\n",
    "\n",
    "filtered_df['injuries_reported'].value_counts()"
   ]
  },
  {
   "cell_type": "code",
   "execution_count": 127,
   "metadata": {},
   "outputs": [],
   "source": [
    "accidents_by_year = aviation_df.groupby('event_year').size().reset_index(name='accident_count')"
   ]
  },
  {
   "cell_type": "code",
   "execution_count": 128,
   "metadata": {},
   "outputs": [
    {
     "data": {
      "image/png": "[encoded data removed]",
      "text/plain": [
       "<Figure size 720x432 with 1 Axes>"
      ]
     },
     "metadata": {
      "needs_background": "light"
     },
     "output_type": "display_data"
    }
   ],
   "source": [
    "# Set the figure size\n",
    "plt.figure(figsize=(10, 6))\n",
    "\n",
    "plt.plot(accidents_by_year['event_year'], accidents_by_year['accident_count'], marker='o', linestyle='-')\n",
    "plt.xlabel('event_year')\n",
    "plt.ylabel('Number of Accidents')\n",
    "plt.title('Number of Accidents Over Time')\n",
    "\n",
    "# Add grid lines\n",
    "plt.grid(True)\n",
    "plt.show()"
   ]
  },
  {
   "cell_type": "code",
   "execution_count": 125,
   "metadata": {},
   "outputs": [
    {
     "data": {
      "image/png": "[encoded data removed]",
      "text/plain": [
       "<Figure size 720x432 with 1 Axes>"
      ]
     },
     "metadata": {
      "needs_background": "light"
     },
     "output_type": "display_data"
    }
   ],
   "source": [
    "prof_by_year = filtered_df.groupby('event_year').size().reset_index(name='accident_count')\n",
    "\n",
    "# Set the figure size\n",
    "plt.figure(figsize=(10, 6))\n",
    "\n",
    "plt.plot(prof_by_year['event_year'], prof_by_year['accident_count'], marker='o', linestyle='-')\n",
    "plt.xlabel('event_year')\n",
    "plt.ylabel('Number of Professional Aircraft Accidents')\n",
    "plt.title('Number of Professional Aircraft Accidents Over Time')\n",
    "\n",
    "# Add grid lines\n",
    "plt.grid(True)\n",
    "plt.show()"
   ]
  },
  {
   "cell_type": "code",
   "execution_count": null,
   "metadata": {},
   "outputs": [],
   "source": [
    "accidents_by_make_fig, accidents_by_make_axes = plt.subplots(nrows=1, ncols=2, figsize=(10, 4))\n",
    "\n",
    "accidents_by_make_axes[0].set_title('Makes with Most Accidents')\n",
    "accidents_by_make_axes[0].set_ylabel('Number of Accidents')\n",
    "accidents_by_make_axes[0].set_xlabel('Make')\n",
    "\n",
    "accidents_by_make_axes[1].set_title('Most with Least Amount of Accidents')\n",
    "accidents_by_make_axes[1].set_ylabel('injury_servity')\n",
    "accidents_by_make_axes[1].set_xlabel('weather_condition')\n",
    "\n",
    "accidents_by_make_low = filtered_df['weather'][filtered_df['investigation_type'].value_counts().tail()]\n",
    "accidents_by_make_high = filtered_df['make'][filtered_df['investigation_type'].value_counts().head()]\n",
    "\n",
    "accidents_by_make_axes[0].hist(accidents_by_make_low, bins=15)\n",
    "accidents_by_make_axes[1].hist(accidents_by_make_high, bins=30)\n",
    "\n",
    "plt.savefig(dpi=150)\n",
    "plt.show()"
   ]
  },
  {
   "cell_type": "code",
   "execution_count": null,
   "metadata": {},
   "outputs": [],
   "source": [
    "# Add another layer of filtering for our relevant columns\n",
    "\n",
    "# Figure out what to do with null values\n",
    "\n",
    "# Change unknown and null values to the same"
   ]
  },
  {
   "cell_type": "code",
   "execution_count": null,
   "metadata": {},
   "outputs": [],
   "source": [
    "# Start plotting stuff"
   ]
  },
  {
   "cell_type": "code",
   "execution_count": null,
   "metadata": {},
   "outputs": [],
   "source": [
    "aviation_df['event_date'].sort_values()"
   ]
  },
  {
   "cell_type": "code",
   "execution_count": null,
   "metadata": {},
   "outputs": [],
   "source": [
    "# find number of entries for each year\n",
    "aviation_df['Event.Year'].value_counts().sort_index()"
   ]
  },
  {
   "cell_type": "code",
   "execution_count": null,
   "metadata": {},
   "outputs": [],
   "source": [
    "#create a dictionary for years and counts\n",
    "year = list(df['Event.Year'].value_counts().sort_index().index)\n",
    "count = list(df['Event.Year'].value_counts().sort_index().values)\n",
    "year_dict = {year[i]: count[i] for i in range(len(year))}\n",
    "year_dict"
   ]
  },
  {
   "cell_type": "code",
   "execution_count": null,
   "metadata": {},
   "outputs": [],
   "source": [
    "#show which Event.Years are relevant years\n",
    "y = 2013\n",
    "df['Relevant.Year'] = np.where(df['Event.Year'] >= y, True, False)\n",
    "df.head()"
   ]
  },
  {
   "cell_type": "code",
   "execution_count": null,
   "metadata": {},
   "outputs": [],
   "source": [
    "list(df['Amateur.Built'].value_counts().sort_index())"
   ]
  },
  {
   "cell_type": "code",
   "execution_count": null,
   "metadata": {},
   "outputs": [],
   "source": [
    "x1 = df['Event.Year'].value_counts().sort_index().index\n",
    "y1 = df['Event.Year'].value_counts().sort_index().values\n",
    "\n",
    "plt.plot(x1, y1)\n",
    "plt.show()"
   ]
  },
  {
   "cell_type": "code",
   "execution_count": null,
   "metadata": {},
   "outputs": [],
   "source": [
    "df['Number.of.Engines'].value_counts().sort_index()"
   ]
  },
  {
   "cell_type": "code",
   "execution_count": null,
   "metadata": {},
   "outputs": [],
   "source": [
    "df['Engine.Type'].value_counts().sort_index()"
   ]
  },
  {
   "cell_type": "code",
   "execution_count": null,
   "metadata": {},
   "outputs": [],
   "source": [
    "country = list(df['Country'].value_counts().sort_index().index)\n",
    "count2 = list(df['Country'].value_counts().sort_index().values)\n",
    "country_dict = {country[i]: count2[i] for i in range(len(country))}\n",
    "country_dict"
   ]
  }
 ],
 "metadata": {
  "kernelspec": {
   "display_name": "learn-env",
   "language": "python",
   "name": "python3"
  },
  "language_info": {
   "codemirror_mode": {
    "name": "ipython",
    "version": 3
   },
   "file_extension": ".py",
   "mimetype": "text/x-python",
   "name": "python",
   "nbconvert_exporter": "python",
   "pygments_lexer": "ipython3",
   "version": "3.8.5"
  }
 },
 "nbformat": 4,
 "nbformat_minor": 4
}
