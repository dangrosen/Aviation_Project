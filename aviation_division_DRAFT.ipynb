{
 "cells": [
  {
   "cell_type": "code",
   "execution_count": 353,
   "metadata": {},
   "outputs": [],
   "source": [
    "import pandas as pd\n",
    "import matplotlib.pyplot as plt\n",
    "import numpy as np \n"
   ]
  },
  {
   "cell_type": "code",
   "execution_count": 354,
   "metadata": {},
   "outputs": [
    {
     "name": "stdout",
     "output_type": "stream",
     "text": [
      "<class 'pandas.core.frame.DataFrame'>\n",
      "RangeIndex: 88889 entries, 0 to 88888\n",
      "Data columns (total 31 columns):\n",
      " #   Column                  Non-Null Count  Dtype  \n",
      "---  ------                  --------------  -----  \n",
      " 0   Event.Id                88889 non-null  object \n",
      " 1   Investigation.Type      88889 non-null  object \n",
      " 2   Accident.Number         88889 non-null  object \n",
      " 3   Event.Date              88889 non-null  object \n",
      " 4   Location                88837 non-null  object \n",
      " 5   Country                 88663 non-null  object \n",
      " 6   Latitude                34382 non-null  object \n",
      " 7   Longitude               34373 non-null  object \n",
      " 8   Airport.Code            50249 non-null  object \n",
      " 9   Airport.Name            52790 non-null  object \n",
      " 10  Injury.Severity         87889 non-null  object \n",
      " 11  Aircraft.damage         85695 non-null  object \n",
      " 12  Aircraft.Category       32287 non-null  object \n",
      " 13  Registration.Number     87572 non-null  object \n",
      " 14  Make                    88826 non-null  object \n",
      " 15  Model                   88797 non-null  object \n",
      " 16  Amateur.Built           88787 non-null  object \n",
      " 17  Number.of.Engines       82805 non-null  float64\n",
      " 18  Engine.Type             81812 non-null  object \n",
      " 19  FAR.Description         32023 non-null  object \n",
      " 20  Schedule                12582 non-null  object \n",
      " 21  Purpose.of.flight       82697 non-null  object \n",
      " 22  Air.carrier             16648 non-null  object \n",
      " 23  Total.Fatal.Injuries    77488 non-null  float64\n",
      " 24  Total.Serious.Injuries  76379 non-null  float64\n",
      " 25  Total.Minor.Injuries    76956 non-null  float64\n",
      " 26  Total.Uninjured         82977 non-null  float64\n",
      " 27  Weather.Condition       84397 non-null  object \n",
      " 28  Broad.phase.of.flight   61724 non-null  object \n",
      " 29  Report.Status           82508 non-null  object \n",
      " 30  Publication.Date        75118 non-null  object \n",
      "dtypes: float64(5), object(26)\n",
      "memory usage: 21.0+ MB\n"
     ]
    },
    {
     "name": "stderr",
     "output_type": "stream",
     "text": [
      "/Users/kariprimiano/anaconda3/envs/learn-env/lib/python3.8/site-packages/IPython/core/interactiveshell.py:3145: DtypeWarning: Columns (6,7,28) have mixed types.Specify dtype option on import or set low_memory=False.\n",
      "  has_raised = await self.run_ast_nodes(code_ast.body, cell_name,\n"
     ]
    }
   ],
   "source": [
    "\n",
    "# Read in data with formatting and encoding specifications\n",
    "\n",
    "aviation_df = pd.read_csv('AviationData.csv', encoding='ISO-8859-1', dtype={'column_name_6': 'int64', 'column_name_7': 'float64', 'column_name_28': 'float64'})\n",
    "aviation_df.info()"
   ]
  },
  {
   "cell_type": "code",
   "execution_count": 355,
   "metadata": {},
   "outputs": [
    {
     "data": {
      "text/html": [
       "<div>\n",
       "<style scoped>\n",
       "    .dataframe tbody tr th:only-of-type {\n",
       "        vertical-align: middle;\n",
       "    }\n",
       "\n",
       "    .dataframe tbody tr th {\n",
       "        vertical-align: top;\n",
       "    }\n",
       "\n",
       "    .dataframe thead th {\n",
       "        text-align: right;\n",
       "    }\n",
       "</style>\n",
       "<table border=\"1\" class=\"dataframe\">\n",
       "  <thead>\n",
       "    <tr style=\"text-align: right;\">\n",
       "      <th></th>\n",
       "      <th>Event.Id</th>\n",
       "      <th>Investigation.Type</th>\n",
       "      <th>Accident.Number</th>\n",
       "      <th>Event.Date</th>\n",
       "      <th>Location</th>\n",
       "      <th>Country</th>\n",
       "      <th>Latitude</th>\n",
       "      <th>Longitude</th>\n",
       "      <th>Airport.Code</th>\n",
       "      <th>Airport.Name</th>\n",
       "      <th>...</th>\n",
       "      <th>Purpose.of.flight</th>\n",
       "      <th>Air.carrier</th>\n",
       "      <th>Total.Fatal.Injuries</th>\n",
       "      <th>Total.Serious.Injuries</th>\n",
       "      <th>Total.Minor.Injuries</th>\n",
       "      <th>Total.Uninjured</th>\n",
       "      <th>Weather.Condition</th>\n",
       "      <th>Broad.phase.of.flight</th>\n",
       "      <th>Report.Status</th>\n",
       "      <th>Publication.Date</th>\n",
       "    </tr>\n",
       "  </thead>\n",
       "  <tbody>\n",
       "    <tr>\n",
       "      <th>0</th>\n",
       "      <td>20001218X45444</td>\n",
       "      <td>Accident</td>\n",
       "      <td>SEA87LA080</td>\n",
       "      <td>1948-10-24</td>\n",
       "      <td>MOOSE CREEK, ID</td>\n",
       "      <td>United States</td>\n",
       "      <td>NaN</td>\n",
       "      <td>NaN</td>\n",
       "      <td>NaN</td>\n",
       "      <td>NaN</td>\n",
       "      <td>...</td>\n",
       "      <td>Personal</td>\n",
       "      <td>NaN</td>\n",
       "      <td>2.0</td>\n",
       "      <td>0.0</td>\n",
       "      <td>0.0</td>\n",
       "      <td>0.0</td>\n",
       "      <td>UNK</td>\n",
       "      <td>Cruise</td>\n",
       "      <td>Probable Cause</td>\n",
       "      <td>NaN</td>\n",
       "    </tr>\n",
       "    <tr>\n",
       "      <th>1</th>\n",
       "      <td>20001218X45447</td>\n",
       "      <td>Accident</td>\n",
       "      <td>LAX94LA336</td>\n",
       "      <td>1962-07-19</td>\n",
       "      <td>BRIDGEPORT, CA</td>\n",
       "      <td>United States</td>\n",
       "      <td>NaN</td>\n",
       "      <td>NaN</td>\n",
       "      <td>NaN</td>\n",
       "      <td>NaN</td>\n",
       "      <td>...</td>\n",
       "      <td>Personal</td>\n",
       "      <td>NaN</td>\n",
       "      <td>4.0</td>\n",
       "      <td>0.0</td>\n",
       "      <td>0.0</td>\n",
       "      <td>0.0</td>\n",
       "      <td>UNK</td>\n",
       "      <td>Unknown</td>\n",
       "      <td>Probable Cause</td>\n",
       "      <td>19-09-1996</td>\n",
       "    </tr>\n",
       "    <tr>\n",
       "      <th>2</th>\n",
       "      <td>20061025X01555</td>\n",
       "      <td>Accident</td>\n",
       "      <td>NYC07LA005</td>\n",
       "      <td>1974-08-30</td>\n",
       "      <td>Saltville, VA</td>\n",
       "      <td>United States</td>\n",
       "      <td>36.9222</td>\n",
       "      <td>-81.8781</td>\n",
       "      <td>NaN</td>\n",
       "      <td>NaN</td>\n",
       "      <td>...</td>\n",
       "      <td>Personal</td>\n",
       "      <td>NaN</td>\n",
       "      <td>3.0</td>\n",
       "      <td>NaN</td>\n",
       "      <td>NaN</td>\n",
       "      <td>NaN</td>\n",
       "      <td>IMC</td>\n",
       "      <td>Cruise</td>\n",
       "      <td>Probable Cause</td>\n",
       "      <td>26-02-2007</td>\n",
       "    </tr>\n",
       "    <tr>\n",
       "      <th>3</th>\n",
       "      <td>20001218X45448</td>\n",
       "      <td>Accident</td>\n",
       "      <td>LAX96LA321</td>\n",
       "      <td>1977-06-19</td>\n",
       "      <td>EUREKA, CA</td>\n",
       "      <td>United States</td>\n",
       "      <td>NaN</td>\n",
       "      <td>NaN</td>\n",
       "      <td>NaN</td>\n",
       "      <td>NaN</td>\n",
       "      <td>...</td>\n",
       "      <td>Personal</td>\n",
       "      <td>NaN</td>\n",
       "      <td>2.0</td>\n",
       "      <td>0.0</td>\n",
       "      <td>0.0</td>\n",
       "      <td>0.0</td>\n",
       "      <td>IMC</td>\n",
       "      <td>Cruise</td>\n",
       "      <td>Probable Cause</td>\n",
       "      <td>12-09-2000</td>\n",
       "    </tr>\n",
       "    <tr>\n",
       "      <th>4</th>\n",
       "      <td>20041105X01764</td>\n",
       "      <td>Accident</td>\n",
       "      <td>CHI79FA064</td>\n",
       "      <td>1979-08-02</td>\n",
       "      <td>Canton, OH</td>\n",
       "      <td>United States</td>\n",
       "      <td>NaN</td>\n",
       "      <td>NaN</td>\n",
       "      <td>NaN</td>\n",
       "      <td>NaN</td>\n",
       "      <td>...</td>\n",
       "      <td>Personal</td>\n",
       "      <td>NaN</td>\n",
       "      <td>1.0</td>\n",
       "      <td>2.0</td>\n",
       "      <td>NaN</td>\n",
       "      <td>0.0</td>\n",
       "      <td>VMC</td>\n",
       "      <td>Approach</td>\n",
       "      <td>Probable Cause</td>\n",
       "      <td>16-04-1980</td>\n",
       "    </tr>\n",
       "  </tbody>\n",
       "</table>\n",
       "<p>5 rows × 31 columns</p>\n",
       "</div>"
      ],
      "text/plain": [
       "         Event.Id Investigation.Type Accident.Number  Event.Date  \\\n",
       "0  20001218X45444           Accident      SEA87LA080  1948-10-24   \n",
       "1  20001218X45447           Accident      LAX94LA336  1962-07-19   \n",
       "2  20061025X01555           Accident      NYC07LA005  1974-08-30   \n",
       "3  20001218X45448           Accident      LAX96LA321  1977-06-19   \n",
       "4  20041105X01764           Accident      CHI79FA064  1979-08-02   \n",
       "\n",
       "          Location        Country Latitude Longitude Airport.Code  \\\n",
       "0  MOOSE CREEK, ID  United States      NaN       NaN          NaN   \n",
       "1   BRIDGEPORT, CA  United States      NaN       NaN          NaN   \n",
       "2    Saltville, VA  United States  36.9222  -81.8781          NaN   \n",
       "3       EUREKA, CA  United States      NaN       NaN          NaN   \n",
       "4       Canton, OH  United States      NaN       NaN          NaN   \n",
       "\n",
       "  Airport.Name  ... Purpose.of.flight Air.carrier Total.Fatal.Injuries  \\\n",
       "0          NaN  ...          Personal         NaN                  2.0   \n",
       "1          NaN  ...          Personal         NaN                  4.0   \n",
       "2          NaN  ...          Personal         NaN                  3.0   \n",
       "3          NaN  ...          Personal         NaN                  2.0   \n",
       "4          NaN  ...          Personal         NaN                  1.0   \n",
       "\n",
       "  Total.Serious.Injuries Total.Minor.Injuries Total.Uninjured  \\\n",
       "0                    0.0                  0.0             0.0   \n",
       "1                    0.0                  0.0             0.0   \n",
       "2                    NaN                  NaN             NaN   \n",
       "3                    0.0                  0.0             0.0   \n",
       "4                    2.0                  NaN             0.0   \n",
       "\n",
       "  Weather.Condition  Broad.phase.of.flight   Report.Status Publication.Date  \n",
       "0               UNK                 Cruise  Probable Cause              NaN  \n",
       "1               UNK                Unknown  Probable Cause       19-09-1996  \n",
       "2               IMC                 Cruise  Probable Cause       26-02-2007  \n",
       "3               IMC                 Cruise  Probable Cause       12-09-2000  \n",
       "4               VMC               Approach  Probable Cause       16-04-1980  \n",
       "\n",
       "[5 rows x 31 columns]"
      ]
     },
     "execution_count": 355,
     "metadata": {},
     "output_type": "execute_result"
    }
   ],
   "source": [
    "aviation_df.head()"
   ]
  },
  {
   "cell_type": "code",
   "execution_count": 356,
   "metadata": {},
   "outputs": [],
   "source": [
    "# Format column names for standardization\n",
    "# Format aircraft makes because we will need to filter and clean this column for our business problem\n",
    "\n",
    "aviation_df[\"Make\"] = aviation_df[\"Make\"].str.lower()\n",
    "aviation_df.columns = aviation_df.columns.str.lower().str.replace('.', '_')"
   ]
  },
  {
   "cell_type": "code",
   "execution_count": 357,
   "metadata": {},
   "outputs": [],
   "source": [
    "# Drop columns that are irrelevant to our business problem and/or have over 50% null values\n",
    "\n",
    "aviation_df.drop(columns = [\"location\", \"registration_number\", \"accident_number\", \n",
    "                            \"latitude\", \"longitude\", \"airport_code\", \"airport_name\", \n",
    "                            \"far_description\", \"schedule\", \"air_carrier\", \"report_status\", \n",
    "                            \"publication_date\"], inplace=True)\n"
   ]
  },
  {
   "cell_type": "code",
   "execution_count": 358,
   "metadata": {},
   "outputs": [
    {
     "data": {
      "text/html": [
       "<div>\n",
       "<style scoped>\n",
       "    .dataframe tbody tr th:only-of-type {\n",
       "        vertical-align: middle;\n",
       "    }\n",
       "\n",
       "    .dataframe tbody tr th {\n",
       "        vertical-align: top;\n",
       "    }\n",
       "\n",
       "    .dataframe thead th {\n",
       "        text-align: right;\n",
       "    }\n",
       "</style>\n",
       "<table border=\"1\" class=\"dataframe\">\n",
       "  <thead>\n",
       "    <tr style=\"text-align: right;\">\n",
       "      <th></th>\n",
       "      <th>event_id</th>\n",
       "      <th>investigation_type</th>\n",
       "      <th>event_date</th>\n",
       "      <th>country</th>\n",
       "      <th>injury_severity</th>\n",
       "      <th>aircraft_damage</th>\n",
       "      <th>aircraft_category</th>\n",
       "      <th>make</th>\n",
       "      <th>model</th>\n",
       "      <th>amateur_built</th>\n",
       "      <th>number_of_engines</th>\n",
       "      <th>engine_type</th>\n",
       "      <th>purpose_of_flight</th>\n",
       "      <th>total_fatal_injuries</th>\n",
       "      <th>total_serious_injuries</th>\n",
       "      <th>total_minor_injuries</th>\n",
       "      <th>total_uninjured</th>\n",
       "      <th>weather_condition</th>\n",
       "      <th>broad_phase_of_flight</th>\n",
       "      <th>event_year</th>\n",
       "    </tr>\n",
       "  </thead>\n",
       "  <tbody>\n",
       "    <tr>\n",
       "      <th>0</th>\n",
       "      <td>20001218X45444</td>\n",
       "      <td>Accident</td>\n",
       "      <td>1948-10-24</td>\n",
       "      <td>United States</td>\n",
       "      <td>Fatal(2)</td>\n",
       "      <td>Destroyed</td>\n",
       "      <td>NaN</td>\n",
       "      <td>stinson</td>\n",
       "      <td>108-3</td>\n",
       "      <td>No</td>\n",
       "      <td>1.0</td>\n",
       "      <td>Reciprocating</td>\n",
       "      <td>Personal</td>\n",
       "      <td>2.0</td>\n",
       "      <td>0.0</td>\n",
       "      <td>0.0</td>\n",
       "      <td>0.0</td>\n",
       "      <td>UNK</td>\n",
       "      <td>Cruise</td>\n",
       "      <td>1948</td>\n",
       "    </tr>\n",
       "    <tr>\n",
       "      <th>1</th>\n",
       "      <td>20001218X45447</td>\n",
       "      <td>Accident</td>\n",
       "      <td>1962-07-19</td>\n",
       "      <td>United States</td>\n",
       "      <td>Fatal(4)</td>\n",
       "      <td>Destroyed</td>\n",
       "      <td>NaN</td>\n",
       "      <td>piper</td>\n",
       "      <td>PA24-180</td>\n",
       "      <td>No</td>\n",
       "      <td>1.0</td>\n",
       "      <td>Reciprocating</td>\n",
       "      <td>Personal</td>\n",
       "      <td>4.0</td>\n",
       "      <td>0.0</td>\n",
       "      <td>0.0</td>\n",
       "      <td>0.0</td>\n",
       "      <td>UNK</td>\n",
       "      <td>Unknown</td>\n",
       "      <td>1962</td>\n",
       "    </tr>\n",
       "    <tr>\n",
       "      <th>2</th>\n",
       "      <td>20061025X01555</td>\n",
       "      <td>Accident</td>\n",
       "      <td>1974-08-30</td>\n",
       "      <td>United States</td>\n",
       "      <td>Fatal(3)</td>\n",
       "      <td>Destroyed</td>\n",
       "      <td>NaN</td>\n",
       "      <td>cessna</td>\n",
       "      <td>172M</td>\n",
       "      <td>No</td>\n",
       "      <td>1.0</td>\n",
       "      <td>Reciprocating</td>\n",
       "      <td>Personal</td>\n",
       "      <td>3.0</td>\n",
       "      <td>NaN</td>\n",
       "      <td>NaN</td>\n",
       "      <td>NaN</td>\n",
       "      <td>IMC</td>\n",
       "      <td>Cruise</td>\n",
       "      <td>1974</td>\n",
       "    </tr>\n",
       "    <tr>\n",
       "      <th>3</th>\n",
       "      <td>20001218X45448</td>\n",
       "      <td>Accident</td>\n",
       "      <td>1977-06-19</td>\n",
       "      <td>United States</td>\n",
       "      <td>Fatal(2)</td>\n",
       "      <td>Destroyed</td>\n",
       "      <td>NaN</td>\n",
       "      <td>rockwell</td>\n",
       "      <td>112</td>\n",
       "      <td>No</td>\n",
       "      <td>1.0</td>\n",
       "      <td>Reciprocating</td>\n",
       "      <td>Personal</td>\n",
       "      <td>2.0</td>\n",
       "      <td>0.0</td>\n",
       "      <td>0.0</td>\n",
       "      <td>0.0</td>\n",
       "      <td>IMC</td>\n",
       "      <td>Cruise</td>\n",
       "      <td>1977</td>\n",
       "    </tr>\n",
       "    <tr>\n",
       "      <th>4</th>\n",
       "      <td>20041105X01764</td>\n",
       "      <td>Accident</td>\n",
       "      <td>1979-08-02</td>\n",
       "      <td>United States</td>\n",
       "      <td>Fatal(1)</td>\n",
       "      <td>Destroyed</td>\n",
       "      <td>NaN</td>\n",
       "      <td>cessna</td>\n",
       "      <td>501</td>\n",
       "      <td>No</td>\n",
       "      <td>NaN</td>\n",
       "      <td>NaN</td>\n",
       "      <td>Personal</td>\n",
       "      <td>1.0</td>\n",
       "      <td>2.0</td>\n",
       "      <td>NaN</td>\n",
       "      <td>0.0</td>\n",
       "      <td>VMC</td>\n",
       "      <td>Approach</td>\n",
       "      <td>1979</td>\n",
       "    </tr>\n",
       "  </tbody>\n",
       "</table>\n",
       "</div>"
      ],
      "text/plain": [
       "         event_id investigation_type  event_date        country  \\\n",
       "0  20001218X45444           Accident  1948-10-24  United States   \n",
       "1  20001218X45447           Accident  1962-07-19  United States   \n",
       "2  20061025X01555           Accident  1974-08-30  United States   \n",
       "3  20001218X45448           Accident  1977-06-19  United States   \n",
       "4  20041105X01764           Accident  1979-08-02  United States   \n",
       "\n",
       "  injury_severity aircraft_damage aircraft_category      make     model  \\\n",
       "0        Fatal(2)       Destroyed               NaN   stinson     108-3   \n",
       "1        Fatal(4)       Destroyed               NaN     piper  PA24-180   \n",
       "2        Fatal(3)       Destroyed               NaN    cessna      172M   \n",
       "3        Fatal(2)       Destroyed               NaN  rockwell       112   \n",
       "4        Fatal(1)       Destroyed               NaN    cessna       501   \n",
       "\n",
       "  amateur_built  number_of_engines    engine_type purpose_of_flight  \\\n",
       "0            No                1.0  Reciprocating          Personal   \n",
       "1            No                1.0  Reciprocating          Personal   \n",
       "2            No                1.0  Reciprocating          Personal   \n",
       "3            No                1.0  Reciprocating          Personal   \n",
       "4            No                NaN            NaN          Personal   \n",
       "\n",
       "   total_fatal_injuries  total_serious_injuries  total_minor_injuries  \\\n",
       "0                   2.0                     0.0                   0.0   \n",
       "1                   4.0                     0.0                   0.0   \n",
       "2                   3.0                     NaN                   NaN   \n",
       "3                   2.0                     0.0                   0.0   \n",
       "4                   1.0                     2.0                   NaN   \n",
       "\n",
       "   total_uninjured weather_condition broad_phase_of_flight  event_year  \n",
       "0              0.0               UNK                Cruise        1948  \n",
       "1              0.0               UNK               Unknown        1962  \n",
       "2              NaN               IMC                Cruise        1974  \n",
       "3              0.0               IMC                Cruise        1977  \n",
       "4              0.0               VMC              Approach        1979  "
      ]
     },
     "execution_count": 358,
     "metadata": {},
     "output_type": "execute_result"
    }
   ],
   "source": [
    "# Create column with the year of each event\n",
    "\n",
    "aviation_df['event_year'] = [int(year[:4]) for year in aviation_df['event_date']]\n",
    "aviation_df.head()"
   ]
  },
  {
   "cell_type": "code",
   "execution_count": 359,
   "metadata": {},
   "outputs": [
    {
     "data": {
      "text/plain": [
       "Personal                     49448\n",
       "Instructional                10601\n",
       "Unknown                       6802\n",
       "Aerial Application            4712\n",
       "Business                      4018\n",
       "Positioning                   1646\n",
       "Other Work Use                1264\n",
       "Ferry                          812\n",
       "Aerial Observation             794\n",
       "Public Aircraft                720\n",
       "Executive/corporate            553\n",
       "Flight Test                    405\n",
       "Skydiving                      182\n",
       "External Load                  123\n",
       "Public Aircraft - Federal      105\n",
       "Banner Tow                     101\n",
       "Air Race show                   99\n",
       "Public Aircraft - Local         74\n",
       "Public Aircraft - State         64\n",
       "Air Race/show                   59\n",
       "Glider Tow                      53\n",
       "Firefighting                    40\n",
       "Air Drop                        11\n",
       "ASHO                             6\n",
       "PUBS                             4\n",
       "PUBL                             1\n",
       "Name: purpose_of_flight, dtype: int64"
      ]
     },
     "execution_count": 359,
     "metadata": {},
     "output_type": "execute_result"
    }
   ],
   "source": [
    "aviation_df[\"purpose_of_flight\"].value_counts()"
   ]
  },
  {
   "cell_type": "code",
   "execution_count": 360,
   "metadata": {},
   "outputs": [
    {
     "data": {
      "text/plain": [
       "No     80312\n",
       "Yes     8475\n",
       "Name: amateur_built, dtype: int64"
      ]
     },
     "execution_count": 360,
     "metadata": {},
     "output_type": "execute_result"
    }
   ],
   "source": [
    "aviation_df[\"amateur_built\"].value_counts()"
   ]
  },
  {
   "cell_type": "markdown",
   "metadata": {},
   "source": [
    "## Data Preparation\n",
    "Use these column to indicate accident severity on the majority of records"
   ]
  },
  {
   "cell_type": "code",
   "execution_count": 361,
   "metadata": {},
   "outputs": [
    {
     "name": "stdout",
     "output_type": "stream",
     "text": [
      "<class 'pandas.core.frame.DataFrame'>\n",
      "Int64Index: 19053 entries, 29671 to 88888\n",
      "Data columns (total 20 columns):\n",
      " #   Column                  Non-Null Count  Dtype  \n",
      "---  ------                  --------------  -----  \n",
      " 0   event_id                19053 non-null  object \n",
      " 1   investigation_type      19053 non-null  object \n",
      " 2   event_date              19053 non-null  object \n",
      " 3   country                 19037 non-null  object \n",
      " 4   injury_severity         19026 non-null  object \n",
      " 5   aircraft_damage         18742 non-null  object \n",
      " 6   aircraft_category       7703 non-null   object \n",
      " 7   make                    19053 non-null  object \n",
      " 8   model                   19049 non-null  object \n",
      " 9   amateur_built           19053 non-null  object \n",
      " 10  number_of_engines       18313 non-null  float64\n",
      " 11  engine_type             18067 non-null  object \n",
      " 12  purpose_of_flight       19053 non-null  object \n",
      " 13  total_fatal_injuries    15519 non-null  float64\n",
      " 14  total_serious_injuries  15065 non-null  float64\n",
      " 15  total_minor_injuries    15321 non-null  float64\n",
      " 16  total_uninjured         17352 non-null  float64\n",
      " 17  weather_condition       18651 non-null  object \n",
      " 18  broad_phase_of_flight   12041 non-null  object \n",
      " 19  event_year              19053 non-null  int64  \n",
      "dtypes: float64(5), int64(1), object(14)\n",
      "memory usage: 3.1+ MB\n"
     ]
    }
   ],
   "source": [
    "# Filter dates, amateur built, and purpose of flight\n",
    "\n",
    "\n",
    "# Select purposes of flight that are relevant to commercial and private aircrafts\n",
    "selected_purposes = [\"Personal\", \"Business\", \"Executive/corporate\", \"Public Aircraft\", \"Other Work Use\", \"Unknown\"]\n",
    "\n",
    "\n",
    "# Create new df of filtered data\n",
    "filtered_df = aviation_df[(aviation_df[\"event_year\"] >= 1992) & \n",
    "                          (aviation_df[\"purpose_of_flight\"].isin(selected_purposes)) & \n",
    "                          (aviation_df[\"amateur_built\"] == \"No\") & \n",
    "                          ((aviation_df['make'].str.contains('airbus')) | \n",
    "                           (aviation_df['make'].str.contains('boeing')) | \n",
    "                           (aviation_df['make'].str.contains('cessna')) | \n",
    "                           (aviation_df['make'].str.contains('mitsubishi')) | \n",
    "                           (aviation_df['make'].str.contains('piper')) | \n",
    "                           (aviation_df['make'].str.contains('beechcraft')) | \n",
    "                           (aviation_df['make'].str.contains('\"bombardier\"')) | \n",
    "                           (aviation_df['make'].str.contains('embraer')) | \n",
    "                           (aviation_df['make'].str.contains('diamond')) | \n",
    "                           (aviation_df['make'].str.contains('gulfstream')))]\n",
    "filtered_df.info()"
   ]
  },
  {
   "cell_type": "markdown",
   "metadata": {},
   "source": [
    "### Null Values"
   ]
  },
  {
   "cell_type": "markdown",
   "metadata": {},
   "source": [
    "We are replacing empty injury records with a value of 0 where at least one other injury-related entry had a non-null value, per accident record. \n",
    "\n",
    "If an accident had any injury-related data, we decided that the associated empty records were left blank because no injuries of that kind existed. \n",
    "\n",
    "Contextually, this allows the empty records to be more meaningful within our data and provide cleaner results."
   ]
  },
  {
   "cell_type": "code",
   "execution_count": 362,
   "metadata": {},
   "outputs": [
    {
     "data": {
      "text/plain": [
       "22"
      ]
     },
     "execution_count": 362,
     "metadata": {},
     "output_type": "execute_result"
    }
   ],
   "source": [
    "# Identify total null values across columns indicating accident severity\n",
    "\n",
    "((filtered_df['total_fatal_injuries'].isna()) \n",
    " & (filtered_df['total_serious_injuries'].isna()) \n",
    " & (filtered_df['total_minor_injuries'].isna()) \n",
    " & (filtered_df['total_uninjured'].isna())).sum()"
   ]
  },
  {
   "cell_type": "code",
   "execution_count": 363,
   "metadata": {},
   "outputs": [
    {
     "name": "stderr",
     "output_type": "stream",
     "text": [
      "<ipython-input-363-7ce79fa72a2a>:3: SettingWithCopyWarning: \n",
      "A value is trying to be set on a copy of a slice from a DataFrame.\n",
      "Try using .loc[row_indexer,col_indexer] = value instead\n",
      "\n",
      "See the caveats in the documentation: https://pandas.pydata.org/pandas-docs/stable/user_guide/indexing.html#returning-a-view-versus-a-copy\n",
      "  filtered_df['injuries_reported'] = ((filtered_df['total_fatal_injuries'].notna())\n"
     ]
    },
    {
     "data": {
      "text/plain": [
       "True     19031\n",
       "False       22\n",
       "Name: injuries_reported, dtype: int64"
      ]
     },
     "execution_count": 363,
     "metadata": {},
     "output_type": "execute_result"
    }
   ],
   "source": [
    "# Create new column identifying total accident records that reported injury severity\n",
    "\n",
    "filtered_df['injuries_reported'] = ((filtered_df['total_fatal_injuries'].notna()) \n",
    " | (filtered_df['total_serious_injuries'].notna()) \n",
    " | (filtered_df['total_minor_injuries'].notna()) \n",
    " | (filtered_df['total_uninjured'].notna()))\n",
    "\n",
    "# Sanity check\n",
    "filtered_df['injuries_reported'].value_counts()"
   ]
  },
  {
   "cell_type": "code",
   "execution_count": 364,
   "metadata": {},
   "outputs": [
    {
     "name": "stderr",
     "output_type": "stream",
     "text": [
      "<ipython-input-364-bc43fe9277a1>:2: SettingWithCopyWarning: \n",
      "A value is trying to be set on a copy of a slice from a DataFrame.\n",
      "Try using .loc[row_indexer,col_indexer] = value instead\n",
      "\n",
      "See the caveats in the documentation: https://pandas.pydata.org/pandas-docs/stable/user_guide/indexing.html#returning-a-view-versus-a-copy\n",
      "  filtered_df['total_fatal_injuries'] = filtered_df['total_fatal_injuries'].fillna(0)\n",
      "<ipython-input-364-bc43fe9277a1>:3: SettingWithCopyWarning: \n",
      "A value is trying to be set on a copy of a slice from a DataFrame.\n",
      "Try using .loc[row_indexer,col_indexer] = value instead\n",
      "\n",
      "See the caveats in the documentation: https://pandas.pydata.org/pandas-docs/stable/user_guide/indexing.html#returning-a-view-versus-a-copy\n",
      "  filtered_df['total_serious_injuries'] = filtered_df['total_serious_injuries'].fillna(0)\n",
      "<ipython-input-364-bc43fe9277a1>:4: SettingWithCopyWarning: \n",
      "A value is trying to be set on a copy of a slice from a DataFrame.\n",
      "Try using .loc[row_indexer,col_indexer] = value instead\n",
      "\n",
      "See the caveats in the documentation: https://pandas.pydata.org/pandas-docs/stable/user_guide/indexing.html#returning-a-view-versus-a-copy\n",
      "  filtered_df['total_minor_injuries'] = filtered_df['total_minor_injuries'].fillna(0)\n",
      "<ipython-input-364-bc43fe9277a1>:5: SettingWithCopyWarning: \n",
      "A value is trying to be set on a copy of a slice from a DataFrame.\n",
      "Try using .loc[row_indexer,col_indexer] = value instead\n",
      "\n",
      "See the caveats in the documentation: https://pandas.pydata.org/pandas-docs/stable/user_guide/indexing.html#returning-a-view-versus-a-copy\n",
      "  filtered_df['total_uninjured'] = filtered_df['total_uninjured'].fillna(0)\n"
     ]
    }
   ],
   "source": [
    "# Replacing null values\n",
    "filtered_df['total_fatal_injuries'] = filtered_df['total_fatal_injuries'].fillna(0)\n",
    "filtered_df['total_serious_injuries'] = filtered_df['total_serious_injuries'].fillna(0)\n",
    "filtered_df['total_minor_injuries'] = filtered_df['total_minor_injuries'].fillna(0)\n",
    "filtered_df['total_uninjured'] = filtered_df['total_uninjured'].fillna(0)"
   ]
  },
  {
   "cell_type": "code",
   "execution_count": 365,
   "metadata": {},
   "outputs": [
    {
     "data": {
      "text/plain": [
       "0"
      ]
     },
     "execution_count": 365,
     "metadata": {},
     "output_type": "execute_result"
    }
   ],
   "source": [
    "# Sanity check\n",
    "filtered_df['total_fatal_injuries'].isna().sum()"
   ]
  },
  {
   "cell_type": "code",
   "execution_count": 366,
   "metadata": {},
   "outputs": [
    {
     "data": {
      "text/plain": [
       "cessna                            11144\n",
       "piper                              6855\n",
       "boeing                              583\n",
       "mitsubishi                           55\n",
       "airbus industrie                     43\n",
       "boeing stearman                      43\n",
       "embraer                              41\n",
       "diamond aircraft ind inc             29\n",
       "diamond aircraft industries          24\n",
       "gulfstream aerospace                 21\n",
       "beechcraft                           20\n",
       "piper aircraft inc                   18\n",
       "gulfstream american                  18\n",
       "gulfstream                           18\n",
       "diamond                              15\n",
       "cessna aircraft co                   14\n",
       "hawker beechcraft corp               11\n",
       "hawker beechcraft                     9\n",
       "piper/cub crafters                    7\n",
       "gulfstream american corp              7\n",
       "airbus helicopters                    5\n",
       "cessna aircraft                       5\n",
       "airbus                                5\n",
       "new piper aircraft inc                5\n",
       "diamond aircraft                      4\n",
       "diamond aircraft ind gmbh             3\n",
       "piper aircraft corporation            3\n",
       "gulfstream american corp.             3\n",
       "cessna ector                          3\n",
       "piper aircraft                        3\n",
       "hawker beechcraft corporation         3\n",
       "boeing helicopters div.               2\n",
       "boeing - canada (de havilland)        2\n",
       "piper aerostar                        2\n",
       "airbus helicopters inc                2\n",
       "gulfstream am corp comm div           2\n",
       "embraer s a                           2\n",
       "hawker-beechcraft                     2\n",
       "cessna/air repair inc                 2\n",
       "reims-cessna                          1\n",
       "new piper                             1\n",
       "boeing-brown                          1\n",
       "hawker beechcraft corp.               1\n",
       "piper / laudeman                      1\n",
       "boeing (stearman)                     1\n",
       "embraer executive aircraft inc        1\n",
       "piper cub crafters                    1\n",
       "cessna/weaver                         1\n",
       "piper/stevens                         1\n",
       "boeing vertol                         1\n",
       "hawker-beechcraft corporation         1\n",
       "cessna wren                           1\n",
       "diamond aicraft industries inc        1\n",
       "airbus/eurocopter                     1\n",
       "new piper aircraft, inc.              1\n",
       "cessna reems                          1\n",
       "cessna aircraft co.                   1\n",
       "beechcraft corporation                1\n",
       "jetprop dlx piper                     1\n",
       "Name: make, dtype: int64"
      ]
     },
     "execution_count": 366,
     "metadata": {},
     "output_type": "execute_result"
    }
   ],
   "source": [
    "filtered_df[\"make\"].value_counts()"
   ]
  },
  {
   "cell_type": "markdown",
   "metadata": {},
   "source": [
    "## Feature Engineering\n",
    "\n",
    "Explain why we're filtereing by top 10. Cite source."
   ]
  },
  {
   "cell_type": "code",
   "execution_count": 367,
   "metadata": {},
   "outputs": [
    {
     "data": {
      "text/plain": [
       "{'airbus': 56,\n",
       " 'beechcraft': 2716,\n",
       " 'boeing': 633,\n",
       " 'bombardier': 13,\n",
       " 'cessna': 11173,\n",
       " 'diamond': 76,\n",
       " 'embraer': 44,\n",
       " 'gulfstream': 69,\n",
       " 'mitsubishi': 55,\n",
       " 'piper': 6899}"
      ]
     },
     "execution_count": 367,
     "metadata": {},
     "output_type": "execute_result"
    }
   ],
   "source": [
    "# Create list of top 10 manufacturing companies\n",
    "top_companies = [\"boeing\", \"airbus\", \"bombardier\", \"embraer\", \"cessna\", \"piper\", \n",
    "             \"diamond\", \"mitsubishi\", \"beechcraft\", \"gulfstream\"]\n",
    "\n",
    "# Create dictionary of top manufacturing companies with number of values in data\n",
    "counts = {}\n",
    "for company in company_list_strings:\n",
    "    if company in top_companies:\n",
    "        if company in counts:\n",
    "            counts[company] +=1\n",
    "        else:\n",
    "            counts[company] = 1\n",
    "            \n",
    "            \n",
    "counts"
   ]
  },
  {
   "cell_type": "code",
   "execution_count": 368,
   "metadata": {},
   "outputs": [
    {
     "name": "stdout",
     "output_type": "stream",
     "text": [
      "cessna        11173\n",
      "piper          6899\n",
      "boeing          633\n",
      "diamond          76\n",
      "gulfstream       69\n",
      "airbus           56\n",
      "mitsubishi       55\n",
      "beechcraft       48\n",
      "embraer          44\n",
      "Name: make, dtype: int64\n"
     ]
    },
    {
     "name": "stderr",
     "output_type": "stream",
     "text": [
      "/Users/kariprimiano/anaconda3/envs/learn-env/lib/python3.8/site-packages/pandas/core/indexing.py:1765: SettingWithCopyWarning: \n",
      "A value is trying to be set on a copy of a slice from a DataFrame.\n",
      "Try using .loc[row_indexer,col_indexer] = value instead\n",
      "\n",
      "See the caveats in the documentation: https://pandas.pydata.org/pandas-docs/stable/user_guide/indexing.html#returning-a-view-versus-a-copy\n",
      "  isetter(loc, value)\n"
     ]
    }
   ],
   "source": [
    "# Iterate through \"make\" column to combine all values containing our \n",
    "# top companies under a unified name and format\n",
    "\n",
    "for company in top_companies:\n",
    "    mask = filtered_df['make'].str.contains(company, case=False, na=False)\n",
    "    filtered_df.loc[mask, 'make'] = company\n",
    "\n",
    "print(filtered_df[\"make\"].value_counts())"
   ]
  },
  {
   "cell_type": "markdown",
   "metadata": {},
   "source": [
    "### Accidents Over Time\n",
    "\n",
    "Most recorded accidents have happened after the 1980s, even though safety standards have significantly increased every decade since the 1950s. **Cite Source\n",
    "\n",
    "This increase in accidents may be a result of increased air traffic. We will assess other factors including weather conditions."
   ]
  },
  {
   "cell_type": "code",
   "execution_count": 369,
   "metadata": {},
   "outputs": [],
   "source": [
    "# Create new variable to group number of accidents per year\n",
    "\n",
    "accidents_by_year = aviation_df.groupby('event_year').size().reset_index(name='accident_count')"
   ]
  },
  {
   "cell_type": "code",
   "execution_count": 370,
   "metadata": {},
   "outputs": [
    {
     "data": {
      "image/png": "[encoded data removed]",
      "text/plain": [
       "<Figure size 720x432 with 1 Axes>"
      ]
     },
     "metadata": {},
     "output_type": "display_data"
    }
   ],
   "source": [
    "# Set the figure size\n",
    "plt.figure(figsize=(10, 6))\n",
    "\n",
    "# Create plot\n",
    "plt.plot(accidents_by_year['event_year'], accidents_by_year['accident_count'], marker='o', linestyle='-')\n",
    "plt.xlabel('event_year')\n",
    "plt.ylabel('Number of Accidents')\n",
    "plt.title('Number of Accidents Over Time')\n",
    "\n",
    "# Add grid lines\n",
    "plt.grid(True)\n",
    "plt.show()"
   ]
  },
  {
   "cell_type": "markdown",
   "metadata": {},
   "source": [
    "### Professional vs. Amateur Build Accidents"
   ]
  },
  {
   "cell_type": "code",
   "execution_count": 371,
   "metadata": {},
   "outputs": [
    {
     "data": {
      "image/png": "[encoded data removed]",
      "text/plain": [
       "<Figure size 720x432 with 1 Axes>"
      ]
     },
     "metadata": {},
     "output_type": "display_data"
    }
   ],
   "source": [
    "# Set figure size\n",
    "plt.figure(figsize=(10, 6))\n",
    "\n",
    "# Create plot\n",
    "amateur_counts = aviation_df['amateur_built'].value_counts()\n",
    "amateur_counts.plot(kind = 'bar')\n",
    "\n",
    "plt.title(\"Professional vs. Amateur Build Accidents\")\n",
    "plt.ylabel(\"Number of Accidents\")\n",
    "plt.xlabel(\"Aircraft Build Type\")\n",
    "plt.xticks([0,1], [\"Professional\", \"Amateur\"], rotation=0);"
   ]
  },
  {
   "cell_type": "markdown",
   "metadata": {},
   "source": [
    "### Professionally Built Aircraft Accidents in Past 30 Years\n",
    "\n",
    "Explain why we're focusing on past 30 years (based on accidents over time graph above)\n",
    "\n"
   ]
  },
  {
   "cell_type": "code",
   "execution_count": 372,
   "metadata": {},
   "outputs": [],
   "source": [
    "# Create new filtered df with all companies\n",
    "new_filtered_df = aviation_df[(aviation_df[\"event_year\"] >= 1992) & \n",
    "                          (aviation_df[\"purpose_of_flight\"].isin(selected_purposes)) & \n",
    "                          (aviation_df[\"amateur_built\"] == \"No\")]"
   ]
  },
  {
   "cell_type": "code",
   "execution_count": 373,
   "metadata": {},
   "outputs": [
    {
     "data": {
      "image/png": "[encoded data removed]",
      "text/plain": [
       "<Figure size 720x432 with 1 Axes>"
      ]
     },
     "metadata": {},
     "output_type": "display_data"
    }
   ],
   "source": [
    "prof_by_year = new_filtered_df.groupby('event_year').size().reset_index(name='accident_count')\n",
    "\n",
    "\n",
    "#Set the figure size\n",
    "plt.figure(figsize=(10, 6))\n",
    "\n",
    "#Create plot\n",
    "prof = plt.plot(prof_by_year['event_year'], prof_by_year['accident_count'], marker='o', linestyle='-')\n",
    "plt.xlabel('Year')\n",
    "plt.ylabel('Number of Accidents')\n",
    "plt.title('Professionally Built Aircraft Accidents in Past 30 Years')\n",
    "\n",
    "\n",
    "#Add grid lines\n",
    "plt.grid(True)\n",
    "plt.show()\n"
   ]
  },
  {
   "cell_type": "markdown",
   "metadata": {},
   "source": [
    "### Accidents by Injury Type in Past 30 Years\n",
    "\n",
    "Fatal, serious, and minor injuries are not declining as steeply as we would like. Therefore, further analysis required. "
   ]
  },
  {
   "cell_type": "code",
   "execution_count": 374,
   "metadata": {},
   "outputs": [],
   "source": [
    "# Create filtered df by injury type\n",
    "\n",
    "filtered_fatal_df = new_filtered_df[new_filtered_df[\"total_fatal_injuries\"] > 0]\n",
    "filtered_serious_df = new_filtered_df[new_filtered_df[\"total_serious_injuries\"] > 0]\n",
    "filtered_minor_df = new_filtered_df[new_filtered_df[\"total_minor_injuries\"] > 0]\n",
    "filtered_uninjured_df = new_filtered_df[new_filtered_df[\"total_uninjured\"] > 0]"
   ]
  },
  {
   "cell_type": "code",
   "execution_count": 375,
   "metadata": {},
   "outputs": [
    {
     "data": {
      "image/png": "[encoded data removed]",
      "text/plain": [
       "<Figure size 720x432 with 1 Axes>"
      ]
     },
     "metadata": {},
     "output_type": "display_data"
    }
   ],
   "source": [
    "fatal_by_year = filtered_fatal_df.groupby('event_year').size().reset_index(name='accident_count')\n",
    "serious_by_year = filtered_serious_df.groupby('event_year').size().reset_index(name='accident_count')\n",
    "minor_by_year = filtered_minor_df.groupby('event_year').size().reset_index(name='accident_count')\n",
    "uninjured_by_year = filtered_uninjured_df.groupby('event_year').size().reset_index(name='accident_count')\n",
    "\n",
    "#Set the figure size\n",
    "plt.figure(figsize=(10, 6))\n",
    "\n",
    "#Create plot\n",
    "fatal = plt.plot(fatal_by_year['event_year'], fatal_by_year['accident_count'], color=\"red\", marker='o', linestyle='-')\n",
    "serious = plt.plot(serious_by_year['event_year'], serious_by_year['accident_count'], color=\"orange\", marker='o', linestyle='-')\n",
    "minor = plt.plot(minor_by_year['event_year'], minor_by_year['accident_count'], color=\"blue\", marker='o', linestyle='-')\n",
    "uninjured = plt.plot(uninjured_by_year['event_year'], uninjured_by_year['accident_count'], color=\"purple\", marker='o', linestyle='-')\n",
    "\n",
    "\n",
    "plt.xlabel('Year')\n",
    "plt.ylabel('Number of Accidents')\n",
    "plt.title('Accidents by Injury Type in Past 30 Years')\n",
    "plt.legend([\"Fatal\", \"Serious\", \"Minor\", \"Uninjured\"], loc = \"upper right\")\n",
    "\n",
    "#Add grid lines\n",
    "plt.grid(True)\n",
    "plt.show()"
   ]
  },
  {
   "cell_type": "markdown",
   "metadata": {},
   "source": [
    "### Accidents by Top Aircraft Manufacturers\n",
    "\n",
    "Show correlation between accidents by top aircraft manufacturers and weather conditions over time"
   ]
  },
  {
   "cell_type": "code",
   "execution_count": 376,
   "metadata": {},
   "outputs": [
    {
     "name": "stderr",
     "output_type": "stream",
     "text": [
      "<ipython-input-376-910febc37881>:5: SettingWithCopyWarning: \n",
      "A value is trying to be set on a copy of a slice from a DataFrame.\n",
      "Try using .loc[row_indexer,col_indexer] = value instead\n",
      "\n",
      "See the caveats in the documentation: https://pandas.pydata.org/pandas-docs/stable/user_guide/indexing.html#returning-a-view-versus-a-copy\n",
      "  filtered_df[\"weather_condition_numeric\"] = filtered_df[\"weather_condition\"].map(weather_mapping)\n"
     ]
    }
   ],
   "source": [
    "# Define a mapping for the weather conditions\n",
    "weather_mapping = {\"IMC\": 0, \"VMC\": 1, \"UNK\": 2, None: 3}  # Assigning numeric labels to each condition\n",
    "\n",
    "# Apply label encoding using the mapping\n",
    "filtered_df[\"weather_condition_numeric\"] = filtered_df[\"weather_condition\"].map(weather_mapping)\n"
   ]
  },
  {
   "cell_type": "code",
   "execution_count": 377,
   "metadata": {},
   "outputs": [
    {
     "name": "stderr",
     "output_type": "stream",
     "text": [
      "<ipython-input-377-72e4303a2d71>:11: SettingWithCopyWarning: \n",
      "A value is trying to be set on a copy of a slice from a DataFrame.\n",
      "Try using .loc[row_indexer,col_indexer] = value instead\n",
      "\n",
      "See the caveats in the documentation: https://pandas.pydata.org/pandas-docs/stable/user_guide/indexing.html#returning-a-view-versus-a-copy\n",
      "  filtered_df[\"accident_count\"] = 1  # Add a new column and set it to 1 for each accident\n"
     ]
    },
    {
     "data": {
      "image/png": "[encoded data removed]",
      "text/plain": [
       "<Figure size 864x432 with 1 Axes>"
      ]
     },
     "metadata": {},
     "output_type": "display_data"
    }
   ],
   "source": [
    "import pandas as pd\n",
    "import matplotlib.pyplot as plt\n",
    "import seaborn as sns\n",
    "\n",
    "# Assuming you have a DataFrame named filtered_df with columns 'event_year', 'make', 'weather_condition'\n",
    "\n",
    "# Step 1: Identify the top aircraft manufacturers\n",
    "top_manufacturers = filtered_df[\"make\"].value_counts().head(10).index\n",
    "\n",
    "# Step 2: Calculate \"AccidentCount\" as the count of accidents for each manufacturer-year combination\n",
    "filtered_df[\"accident_count\"] = 1  # Add a new column and set it to 1 for each accident\n",
    "accidents_count_by_manufacturer_year = filtered_df.groupby([\"make\", \"event_year\"])[\"accident_count\"].sum().unstack(fill_value=0)\n",
    "\n",
    "# Step 3: Create a DataFrame to store correlation data\n",
    "correlation_data = []\n",
    "\n",
    "# Step 4: Calculate the correlation for each manufacturer\n",
    "for manufacturer in top_manufacturers:\n",
    "    accidents_by_year = accidents_count_by_manufacturer_year.loc[manufacturer]\n",
    "    \n",
    "    if \"weather_condition\" in filtered_df.columns:\n",
    "        # Filter data for the current manufacturer\n",
    "        manufacturer_data = filtered_df[filtered_df[\"make\"] == manufacturer]\n",
    "        \n",
    "        # Calculate the correlation between \"accidents_by_year\" and \"weather_condition\"\n",
    "        correlation = accidents_by_year.corr(manufacturer_data.groupby(\"event_year\")[\"weather_condition_numeric\"].first())\n",
    "        \n",
    "        correlation_data.append({'Manufacturer': manufacturer, 'Correlation': correlation})\n",
    "\n",
    "correlation_df = pd.DataFrame(correlation_data)\n",
    "\n",
    "# Step 5: Create a visualization to display the correlations over time\n",
    "plt.figure(figsize=(12, 6))\n",
    "sns.set(style=\"whitegrid\")\n",
    "sns.lineplot(data=correlation_df, x='Manufacturer', y='Correlation', marker='o')\n",
    "plt.title(\"Correlation Between Accidents and Weather Conditions Over Time\")\n",
    "plt.xlabel(\"Manufacturer\")\n",
    "plt.ylabel(\"Correlation\")\n",
    "\n",
    "plt.xticks(rotation=45)\n",
    "plt.tight_layout()\n",
    "plt.show()"
   ]
  }
 ],
 "metadata": {
  "kernelspec": {
   "display_name": "learn-env",
   "language": "python",
   "name": "python3"
  },
  "language_info": {
   "codemirror_mode": {
    "name": "ipython",
    "version": 3
   },
   "file_extension": ".py",
   "mimetype": "text/x-python",
   "name": "python",
   "nbconvert_exporter": "python",
   "pygments_lexer": "ipython3",
   "version": "3.8.5"
  }
 },
 "nbformat": 4,
 "nbformat_minor": 4
}
